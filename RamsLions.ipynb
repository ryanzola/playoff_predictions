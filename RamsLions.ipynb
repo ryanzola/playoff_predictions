{
 "cells": [
  {
   "cell_type": "markdown",
   "metadata": {},
   "source": [
    "<h1 style=\"text-align: center\">Playoff Predictions</h1>\n",
    "\n",
    "<div style=\"display: flex; gap: 4rem; justify-content: center;\">\n",
    "  <img src=\"./img/lar.png\">\n",
    "  <img src=\"./img/det.png\">\n",
    "</div>"
   ]
  },
  {
   "cell_type": "markdown",
   "metadata": {},
   "source": [
    "### Data"
   ]
  },
  {
   "cell_type": "code",
   "execution_count": 58,
   "id": "688e2a80-d50a-4e39-b53c-7bf1529e7706",
   "metadata": {},
   "outputs": [],
   "source": [
    "import utils\n",
    "\n",
    "# Los Angeles Rams\n",
    "lar_points_for = [30,23,16,29,14,26,17,20,3,17,37,36,31,28,30,26,21]\n",
    "lar_points_against = [13,30,19,23,23,9,24,43,20,16,14,19,37,20,22,25,20]\n",
    "lar_prev_meeting_points = 28\n",
    "lar_averages = utils.calculate_averages(lar_points_for, lar_points_against)\n",
    "\n",
    "# Detroit Lions\n",
    "det_points_for = [21,31,20,34,42,20,6,26,41,31,22,33,13,42,30,19,30]\n",
    "det_points_against = [20,37,6,20,24,6,38,14,38,26,29,28,28,17,24,20,20]\n",
    "det_prev_meeting_points = 19\n",
    "det_averages = utils.calculate_averages(det_points_for, det_points_against)\n",
    "\n",
    "# predictions\n",
    "predictions = utils.calculate_predictions(lar_averages, det_averages)\n",
    "three_game_moving_averages_lar = utils.calculate_moving_averages(lar_points_for, lar_points_against)\n",
    "three_game_moving_averages_det = utils.calculate_moving_averages(det_points_for, det_points_against)\n",
    "\n",
    "# average of averages\n",
    "avg_of_avg_lar = (predictions['team1'] + three_game_moving_averages_lar['moving_average_points_for'][-1] + lar_prev_meeting_points) / 3\n",
    "avg_of_avg_det = (predictions['team2'] + three_game_moving_averages_det['moving_average_points_for'][-1] + det_prev_meeting_points) / 3\n"
   ]
  },
  {
   "cell_type": "markdown",
   "metadata": {},
   "source": [
    "### Averages"
   ]
  },
  {
   "cell_type": "code",
   "execution_count": 59,
   "id": "b83e9849-63ff-428a-9345-73d20f900593",
   "metadata": {},
   "outputs": [
    {
     "name": "stdout",
     "output_type": "stream",
     "text": [
      "Los Angeles Rams\n",
      "points for (season)\t\t 24\n",
      "points for (last 4)\t\t 26 \n",
      "\n",
      "points against (season)\t\t 22\n",
      "points against (last 4)\t\t 22\n",
      "\n",
      "--------------------\n",
      "\n",
      "Detroit Lions\n",
      "points for (season)\t\t 27\n",
      "points for (last 4)\t\t 30 \n",
      "\n",
      "points against (season)\t\t 23\n",
      "points against (last 4)\t\t 20\n"
     ]
    }
   ],
   "source": [
    "print(\"Los Angeles Rams\")\n",
    "print(\"points for (season)\\t\\t\",  lar_averages['average_points_for'])\n",
    "print(\"points for (last 4)\\t\\t\", lar_averages['average_last4_points_for'], '\\n')\n",
    "print(\"points against (season)\\t\\t\", lar_averages['average_points_against'])\n",
    "print(\"points against (last 4)\\t\\t\", lar_averages['average_last4_points_against'])\n",
    "\n",
    "print(\"\\n--------------------\\n\")\n",
    "\n",
    "print(\"Detroit Lions\")\n",
    "print(\"points for (season)\\t\\t\", det_averages['average_points_for'])\n",
    "print(\"points for (last 4)\\t\\t\", det_averages['average_last4_points_for'], '\\n')\n",
    "print(\"points against (season)\\t\\t\", det_averages['average_points_against'])\n",
    "print(\"points against (last 4)\\t\\t\", det_averages['average_last4_points_against'])"
   ]
  },
  {
   "cell_type": "markdown",
   "metadata": {},
   "source": [
    "---"
   ]
  },
  {
   "cell_type": "markdown",
   "metadata": {},
   "source": [
    "### Predictions"
   ]
  },
  {
   "cell_type": "markdown",
   "metadata": {},
   "source": [
    "#### Weigthted Average\n",
    "\n",
    "This weighs the average of the season vs the average of the last 4 games. The weight is 0.3 for the season and 0.7 for the last 4 games.\n",
    "\n",
    "<div style=\"display: flex; align-items:center; gap: 2rem; margin-bottom: 1rem\">\n",
    "  <img src=\"./img/lar.png\" height=\"60\" width=\"60\">\n",
    "  <span style=\"font-size: 3.2rem\">23</span>\n",
    "</div>\n",
    "\n",
    "<div style=\"display: flex; align-items:center; gap: 2rem;\">\n",
    "  <img src=\"./img/det.png\" height=\"60\" width=\"60\">\n",
    "  <span style=\"font-size: 3.2rem\">26</span>\n",
    "</div>\n",
    "\n",
    "<h5>Cumulative: 49</h5>\n",
    "\n",
    "---"
   ]
  },
  {
   "cell_type": "markdown",
   "metadata": {},
   "source": [
    "#### Three-Game Average\n",
    "\n",
    "The three-game moving average calculates the average of the last three games for each team. This is a simple way to account for recent performance.\n",
    "\n",
    "<div style=\"display: flex; align-items:center; gap: 2rem; margin-bottom: 1rem\">\n",
    "  <img src=\"./img/lar.png\" height=\"60\" width=\"60\">\n",
    "  <span style=\"font-size: 3.2rem\">26</span>\n",
    "</div>\n",
    "\n",
    "<div style=\"display: flex; align-items:center; gap: 2rem;\">\n",
    "  <img src=\"./img/det.png\" height=\"60\" width=\"60\">\n",
    "  <span style=\"font-size: 3.2rem\">26</span>\n",
    "</div>\n",
    "\n",
    "<h5>Cumulative: 52</h5>\n",
    "\n",
    "---"
   ]
  },
  {
   "cell_type": "markdown",
   "metadata": {},
   "source": [
    "#### Previous Meeting\n",
    "\n",
    "The score of the previous meeting between the two teams.\n",
    "\n",
    "<div style=\"display: flex; align-items:center; gap: 2rem; margin-bottom: 1rem\">\n",
    "  <img src=\"./img/lar.png\" height=\"60\" width=\"60\">\n",
    "  <span style=\"font-size: 3.2rem\">28</span>\n",
    "</div>\n",
    "\n",
    "<div style=\"display: flex; align-items:center; gap: 2rem;\">\n",
    "  <img src=\"./img/det.png\" height=\"60\" width=\"60\">\n",
    "  <span style=\"font-size: 3.2rem\">19</span>\n",
    "</div>\n",
    "\n",
    "<h5>Cumulative: 47</h5>\n",
    "\n",
    "---"
   ]
  },
  {
   "cell_type": "markdown",
   "metadata": {},
   "source": [
    "#### Average of All Predictions\n",
    "\n",
    "This is the average of all the predictions.\n",
    "\n",
    "<div style=\"display: flex; align-items:center; gap: 2rem; margin-bottom: 1rem\">\n",
    "  <img src=\"./img/lar.png\" height=\"60\" width=\"60\">\n",
    "  <span style=\"font-size: 3.2rem\">26</span>\n",
    "</div>\n",
    "\n",
    "<div style=\"display: flex; align-items:center; gap: 2rem;\">\n",
    "  <img src=\"./img/det.png\" height=\"60\" width=\"60\">\n",
    "  <span style=\"font-size: 3.2rem\">24</span>\n",
    "</div>\n",
    "\n",
    "<h5>Cumulative: 50</h5>\n",
    "\n",
    "---"
   ]
  },
  {
   "cell_type": "markdown",
   "metadata": {},
   "source": [
    "#### Actual\n",
    "\n",
    "<div style=\"display: flex; align-items:center; gap: 2rem; margin-bottom: 1rem\">\n",
    "  <img src=\"./img/lar.png\" height=\"60\" width=\"60\">\n",
    "  <span style=\"font-size: 3.2rem\">23</span>\n",
    "</div>\n",
    "\n",
    "<div style=\"display: flex; align-items:center; gap: 2rem;\">\n",
    "  <img src=\"./img/det.png\" height=\"60\" width=\"60\">\n",
    "  <span style=\"font-size: 3.2rem\">24</span>\n",
    "</div>\n",
    "\n",
    "<h5>Cumulative: 47</h5>"
   ]
  }
 ],
 "metadata": {
  "kernelspec": {
   "display_name": "venv",
   "language": "python",
   "name": "python3"
  },
  "language_info": {
   "codemirror_mode": {
    "name": "ipython",
    "version": 3
   },
   "file_extension": ".py",
   "mimetype": "text/x-python",
   "name": "python",
   "nbconvert_exporter": "python",
   "pygments_lexer": "ipython3",
   "version": "3.10.12"
  }
 },
 "nbformat": 4,
 "nbformat_minor": 5
}
