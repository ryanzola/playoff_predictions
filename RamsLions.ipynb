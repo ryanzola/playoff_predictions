{
 "cells": [
  {
   "cell_type": "markdown",
   "metadata": {},
   "source": [
    "<h1 style=\"text-align: center\">Playoff Predictions</h1>\n",
    "\n",
    "<div style=\"display: flex; gap: 4rem; justify-content: center;\">\n",
    "  <img src=\"./img/lar.png\">\n",
    "  <img src=\"./img/det.png\">\n",
    "</div>"
   ]
  },
  {
   "cell_type": "markdown",
   "metadata": {},
   "source": [
    "### Methods"
   ]
  },
  {
   "cell_type": "code",
   "execution_count": 5,
   "id": "24b34bec",
   "metadata": {},
   "outputs": [],
   "source": [
    "# Calculate the average points for and against for the season and the last 4 games for each team\n",
    "def calculate_averages(points_for, points_against):\n",
    "    last4_for = points_for[-4:]\n",
    "    last4_against = points_against[-4:]\n",
    "\n",
    "    averages = {\n",
    "        'average_points_for': round(sum(points_for) / len(points_for)),\n",
    "        'average_last4_points_for': round(sum(last4_for) / len(last4_for)),\n",
    "        'average_points_against': round(sum(points_against) / len(points_against)),\n",
    "        'average_last4_points_against': round(sum(last4_against) / len(last4_against))\n",
    "    }\n",
    "    return averages\n",
    "\n",
    "# Calculate predictions for each team\n",
    "# The average of the last 4 games is weighted more heavily\n",
    "# This is because the last 4 games are more indicative of the current form of the team\n",
    "def calculate_predictions(team1, team2):\n",
    "    team1_points = ((0.3 * team1['average_points_for'] + (0.7 * team1['average_last4_points_for'])) + ((0.3 * team2['average_points_against'])+(0.7 * team2['average_last4_points_against']))) / 2\n",
    "    team2_points = ((0.3 * team2['average_points_for'] + (0.7 * team2['average_last4_points_for'])) + ((0.3 * team1['average_points_against'])+(0.7 * team1['average_last4_points_against']))) / 2\n",
    "\n",
    "    return {\n",
    "        'team1': round(team1_points),\n",
    "        'team2': round(team2_points)\n",
    "    }\n",
    "\n",
    "# Calculate 3-game moving averages for each team\n",
    "# This is used to get a better idea of the current form of the team\n",
    "def calculate_moving_averages(points_for, points_against):\n",
    "    moving_averages = {\n",
    "        'moving_average_points_for': [],\n",
    "        'moving_average_points_against': []\n",
    "    }\n",
    "\n",
    "    for i in range(len(points_for)):\n",
    "        if i < 2:\n",
    "            moving_averages['moving_average_points_for'].append(0)\n",
    "            moving_averages['moving_average_points_against'].append(0)\n",
    "        else:\n",
    "            moving_averages['moving_average_points_for'].append(round((points_for[i-2] + points_for[i-1] + points_for[i]) / 3))\n",
    "            moving_averages['moving_average_points_against'].append(round((points_against[i-2] + points_against[i-1] + points_against[i]) / 3))\n",
    "\n",
    "    return moving_averages"
   ]
  },
  {
   "cell_type": "markdown",
   "metadata": {},
   "source": [
    "### Data"
   ]
  },
  {
   "cell_type": "code",
   "execution_count": 15,
   "id": "688e2a80-d50a-4e39-b53c-7bf1529e7706",
   "metadata": {},
   "outputs": [],
   "source": [
    "# Los Angeles Rams\n",
    "lar_points_for = [30,23,16,29,14,26,17,20,3,17,37,36,31,28,30,26,21]\n",
    "lar_points_against = [13,30,19,23,23,9,24,43,20,16,14,19,37,20,22,25,20]\n",
    "lar_prev_meeting_points = 28\n",
    "lar_averages = calculate_averages(lar_points_for, lar_points_against)\n",
    "\n",
    "# Detroit Lions\n",
    "det_points_for = [21,31,20,34,42,20,6,26,41,31,22,33,13,42,30,19,30]\n",
    "det_points_against = [20,37,6,20,24,6,38,14,38,26,29,28,28,17,24,20,20]\n",
    "det_prev_meeting_points = 19\n",
    "det_averages = calculate_averages(det_points_for, det_points_against)\n",
    "\n",
    "# predictions\n",
    "predictions = calculate_predictions(lar_averages, det_averages)\n",
    "three_game_moving_averages_lar = calculate_moving_averages(lar_points_for, lar_points_against)\n",
    "three_game_moving_averages_det = calculate_moving_averages(det_points_for, det_points_against)\n",
    "\n",
    "# average of averages\n",
    "avg_of_avg_lar = (predictions['team1'] + three_game_moving_averages_lar['moving_average_points_for'][-1] + lar_prev_meeting_points) / 3\n",
    "avg_of_avg_det = (predictions['team2'] + three_game_moving_averages_det['moving_average_points_for'][-1] + det_prev_meeting_points) / 3\n"
   ]
  },
  {
   "cell_type": "markdown",
   "metadata": {},
   "source": [
    "### Averages"
   ]
  },
  {
   "cell_type": "code",
   "execution_count": 16,
   "id": "b83e9849-63ff-428a-9345-73d20f900593",
   "metadata": {},
   "outputs": [
    {
     "name": "stdout",
     "output_type": "stream",
     "text": [
      "Los Angeles Rams\n",
      "points for (season)\t\t 24\n",
      "points for (last 4)\t\t 26 \n",
      "\n",
      "points against (season)\t\t 22\n",
      "points against (last 4)\t\t 22\n",
      "\n",
      "--------------------\n",
      "\n",
      "Detroit Lions\n",
      "points for (season)\t\t 27\n",
      "points for (last 4)\t\t 30 \n",
      "\n",
      "points against (season)\t\t 23\n",
      "points against (last 4)\t\t 20\n",
      "\n",
      "--------------------\n",
      "\n"
     ]
    }
   ],
   "source": [
    "print(\"Los Angeles Rams\")\n",
    "print(\"points for (season)\\t\\t\",  lar_averages['average_points_for'])\n",
    "print(\"points for (last 4)\\t\\t\", lar_averages['average_last4_points_for'], '\\n')\n",
    "print(\"points against (season)\\t\\t\", lar_averages['average_points_against'])\n",
    "print(\"points against (last 4)\\t\\t\", lar_averages['average_last4_points_against'])\n",
    "\n",
    "print(\"\\n--------------------\\n\")\n",
    "\n",
    "print(\"Detroit Lions\")\n",
    "print(\"points for (season)\\t\\t\", det_averages['average_points_for'])\n",
    "print(\"points for (last 4)\\t\\t\", det_averages['average_last4_points_for'], '\\n')\n",
    "print(\"points against (season)\\t\\t\", det_averages['average_points_against'])\n",
    "print(\"points against (last 4)\\t\\t\", det_averages['average_last4_points_against'])\n",
    "\n",
    "print(\"\\n--------------------\\n\")\n"
   ]
  },
  {
   "cell_type": "markdown",
   "metadata": {},
   "source": [
    "### Predictions"
   ]
  },
  {
   "cell_type": "markdown",
   "metadata": {},
   "source": [
    "#### Weigthted Average\n",
    "\n",
    "This weighs the average of the season vs the average of the last 4 games. The weight is 0.3 for the season and 0.7 for the last 4 games."
   ]
  },
  {
   "cell_type": "code",
   "execution_count": 17,
   "id": "668ba12f-12cc-461a-87f0-e662c6a96670",
   "metadata": {},
   "outputs": [
    {
     "name": "stdout",
     "output_type": "stream",
     "text": [
      "Los Angeles Rams\t\t 23\n",
      "Detroit Lions\t\t\t 26\n",
      "-----------------------------------\n",
      "Cumulative\t\t\t 49 \n",
      "\n"
     ]
    }
   ],
   "source": [
    "print(\"Los Angeles Rams\\t\\t\", predictions['team1'])\n",
    "print(\"Detroit Lions\\t\\t\\t\", predictions['team2'])\n",
    "print(\"-----------------------------------\")\n",
    "print(\"Cumulative\\t\\t\\t\", predictions['team1'] + predictions['team2'], '\\n')"
   ]
  },
  {
   "cell_type": "markdown",
   "metadata": {},
   "source": [
    "#### Three-Game Moving Average\n",
    "\n",
    "The three-game moving average calculates the average of the last three games for each team. This is a simple way to account for recent performance."
   ]
  },
  {
   "cell_type": "code",
   "execution_count": 18,
   "metadata": {},
   "outputs": [
    {
     "name": "stdout",
     "output_type": "stream",
     "text": [
      "Three-Game Moving Average\n",
      "Los Angeles Rams\t\t 26\n",
      "Detroit Lions\t\t\t 26\n",
      "-----------------------------------\n",
      "Cumulative\t\t\t 52 \n",
      "\n"
     ]
    }
   ],
   "source": [
    "print(\"Three-Game Moving Average\")\n",
    "print(\"Los Angeles Rams\\t\\t\", three_game_moving_averages_lar['moving_average_points_for'][-1])\n",
    "print(\"Detroit Lions\\t\\t\\t\", three_game_moving_averages_det['moving_average_points_for'][-1])\n",
    "print(\"-----------------------------------\")\n",
    "print(\"Cumulative\\t\\t\\t\", three_game_moving_averages_lar['moving_average_points_for'][-1] + three_game_moving_averages_det['moving_average_points_for'][-1], '\\n')\n"
   ]
  },
  {
   "cell_type": "markdown",
   "metadata": {},
   "source": [
    "#### Previous Meeting\n",
    "\n",
    "The score of the previous meeting between the two teams."
   ]
  },
  {
   "cell_type": "code",
   "execution_count": 19,
   "metadata": {},
   "outputs": [
    {
     "name": "stdout",
     "output_type": "stream",
     "text": [
      "Los Angeles Rams\t\t 28\n",
      "Detroit Lions\t\t\t 19\n",
      "-----------------------------------\n",
      "Cumulative\t\t\t 47 \n",
      "\n"
     ]
    }
   ],
   "source": [
    "print(\"Los Angeles Rams\\t\\t\", lar_prev_meeting_points)\n",
    "print(\"Detroit Lions\\t\\t\\t\", det_prev_meeting_points)\n",
    "print(\"-----------------------------------\")\n",
    "print(\"Cumulative\\t\\t\\t\", lar_prev_meeting_points + det_prev_meeting_points, '\\n')"
   ]
  },
  {
   "cell_type": "markdown",
   "metadata": {},
   "source": [
    "#### Average of All Predictions\n",
    "\n",
    "This is the average of all the predictions."
   ]
  },
  {
   "cell_type": "code",
   "execution_count": 21,
   "metadata": {},
   "outputs": [
    {
     "name": "stdout",
     "output_type": "stream",
     "text": [
      "Los Angeles Rams\t\t 26\n",
      "Detroit Lions\t\t\t 24\n",
      "-----------------------------------\n",
      "Cumulative\t\t\t 49 \n",
      "\n"
     ]
    }
   ],
   "source": [
    "print(\"Los Angeles Rams\\t\\t\", round(avg_of_avg_lar))\n",
    "print(\"Detroit Lions\\t\\t\\t\", round(avg_of_avg_det))\n",
    "print(\"-----------------------------------\")\n",
    "print(\"Cumulative\\t\\t\\t\", round(avg_of_avg_lar + avg_of_avg_det), '\\n')"
   ]
  }
 ],
 "metadata": {
  "kernelspec": {
   "display_name": "venv",
   "language": "python",
   "name": "python3"
  },
  "language_info": {
   "codemirror_mode": {
    "name": "ipython",
    "version": 3
   },
   "file_extension": ".py",
   "mimetype": "text/x-python",
   "name": "python",
   "nbconvert_exporter": "python",
   "pygments_lexer": "ipython3",
   "version": "3.10.12"
  }
 },
 "nbformat": 4,
 "nbformat_minor": 5
}
