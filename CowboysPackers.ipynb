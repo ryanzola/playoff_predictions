{
 "cells": [
  {
   "cell_type": "markdown",
   "metadata": {},
   "source": [
    "<h1 style=\"text-align: center\">Playoff Predictions</h1>\n",
    "\n",
    "<div style=\"display: flex; gap: 4rem; justify-content: center; align-items: center\">\n",
    "  <img src=\"./img/gb.png\">\n",
    "  <img src=\"./img/dal.png\">\n",
    "</div>"
   ]
  },
  {
   "cell_type": "markdown",
   "metadata": {},
   "source": [
    "### Methods"
   ]
  },
  {
   "cell_type": "code",
   "execution_count": 20,
   "id": "24b34bec",
   "metadata": {},
   "outputs": [],
   "source": [
    "# Calculate the average points for and against for the season and the last 4 games for each team\n",
    "def calculate_averages(points_for, points_against):\n",
    "    last4_for = points_for[-4:]\n",
    "    last4_against = points_against[-4:]\n",
    "\n",
    "    averages = {\n",
    "        'average_points_for': round(sum(points_for) / len(points_for)),\n",
    "        'average_last4_points_for': round(sum(last4_for) / len(last4_for)),\n",
    "        'average_points_against': round(sum(points_against) / len(points_against)),\n",
    "        'average_last4_points_against': round(sum(last4_against) / len(last4_against))\n",
    "    }\n",
    "    return averages\n",
    "\n",
    "# Calculate predictions for each team\n",
    "# The average of the last 4 games is weighted more heavily\n",
    "# This is because the last 4 games are more indicative of the current form of the team\n",
    "def calculate_predictions(team1, team2):\n",
    "    team1_points = ((0.3 * team1['average_points_for'] + (0.7 * team1['average_last4_points_for'])) + ((0.3 * team2['average_points_against'])+(0.7 * team2['average_last4_points_against']))) / 2\n",
    "    team2_points = ((0.3 * team2['average_points_for'] + (0.7 * team2['average_last4_points_for'])) + ((0.3 * team1['average_points_against'])+(0.7 * team1['average_last4_points_against']))) / 2\n",
    "\n",
    "    return {\n",
    "        'team1': round(team1_points),\n",
    "        'team2': round(team2_points)\n",
    "    }\n",
    "\n",
    "# Calculate 3-game moving averages for each team\n",
    "# This is used to get a better idea of the current form of the team\n",
    "def calculate_moving_averages(points_for, points_against):\n",
    "    moving_averages = {\n",
    "        'moving_average_points_for': [],\n",
    "        'moving_average_points_against': []\n",
    "    }\n",
    "\n",
    "    for i in range(len(points_for)):\n",
    "        if i < 2:\n",
    "            moving_averages['moving_average_points_for'].append(0)\n",
    "            moving_averages['moving_average_points_against'].append(0)\n",
    "        else:\n",
    "            moving_averages['moving_average_points_for'].append(round((points_for[i-2] + points_for[i-1] + points_for[i]) / 3))\n",
    "            moving_averages['moving_average_points_against'].append(round((points_against[i-2] + points_against[i-1] + points_against[i]) / 3))\n",
    "\n",
    "    return moving_averages"
   ]
  },
  {
   "cell_type": "code",
   "execution_count": 11,
   "id": "688e2a80-d50a-4e39-b53c-7bf1529e7706",
   "metadata": {},
   "outputs": [],
   "source": [
    "# Dallas Cowboys\n",
    "dal_points_for = [40,30,16,38,10,20,43,23,49,33,45,41,33,10,20,20,38]\n",
    "dal_points_against = [0,10,28,3,42,17,20,28,17,10,10,35,13,31,22,19,10]\n",
    "dal_prev_meeting_points = 28\n",
    "dal_averages = calculate_averages(dal_points_for, dal_points_against)\n",
    "\n",
    "# Green Bay Packers\n",
    "gb_points_for = [38,24,18,20,13,17,10,20,19,23,29,27,22,20,33,33,17]\n",
    "gb_points_against = [20,25,17,34,17,19,24,3,23,20,22,19,24,34,30,10,9]\n",
    "gb_prev_meeting_points = 31\n",
    "gb_averages = calculate_averages(gb_points_for, gb_points_against)\n",
    "\n",
    "# predictions\n",
    "predictions = calculate_predictions(dal_averages, gb_averages)\n",
    "three_game_moving_averages_dal = calculate_moving_averages(dal_points_for, dal_points_against)\n",
    "three_game_moving_averages_gb = calculate_moving_averages(gb_points_for, gb_points_against)\n",
    "\n",
    "# average of averages\n",
    "avg_of_avg_dal = (predictions['team1'] + three_game_moving_averages_dal['moving_average_points_for'][-1] + dal_prev_meeting_points) / 3\n",
    "avg_of_avg_gb = (predictions['team2'] + three_game_moving_averages_gb['moving_average_points_for'][-1] + gb_prev_meeting_points) / 3\n"
   ]
  },
  {
   "cell_type": "markdown",
   "metadata": {},
   "source": [
    "### Averages"
   ]
  },
  {
   "cell_type": "code",
   "execution_count": 12,
   "id": "b83e9849-63ff-428a-9345-73d20f900593",
   "metadata": {},
   "outputs": [
    {
     "name": "stdout",
     "output_type": "stream",
     "text": [
      "Dallas Cowboys\n",
      "points for (season)\t\t 30\n",
      "points for (last 4)\t\t 22 \n",
      "\n",
      "points against (season)\t\t 19\n",
      "points against (last 4)\t\t 20\n",
      "\n",
      "--------------------\n",
      "\n",
      "Green Bay Packers\n",
      "points for (season)\t\t 23\n",
      "points for (last 4)\t\t 26 \n",
      "\n",
      "points against (season)\t\t 21\n",
      "points against (last 4)\t\t 21\n",
      "\n",
      "--------------------\n",
      "\n"
     ]
    }
   ],
   "source": [
    "print(\"Dallas Cowboys\")\n",
    "print(\"points for (season)\\t\\t\",  dal_averages['average_points_for'])\n",
    "print(\"points for (last 4)\\t\\t\", dal_averages['average_last4_points_for'], '\\n')\n",
    "print(\"points against (season)\\t\\t\", dal_averages['average_points_against'])\n",
    "print(\"points against (last 4)\\t\\t\", dal_averages['average_last4_points_against'])\n",
    "\n",
    "print(\"\\n--------------------\\n\")\n",
    "\n",
    "print(\"Green Bay Packers\")\n",
    "print(\"points for (season)\\t\\t\", gb_averages['average_points_for'])\n",
    "print(\"points for (last 4)\\t\\t\", gb_averages['average_last4_points_for'], '\\n')\n",
    "print(\"points against (season)\\t\\t\", gb_averages['average_points_against'])\n",
    "print(\"points against (last 4)\\t\\t\", gb_averages['average_last4_points_against'])\n",
    "\n",
    "print(\"\\n--------------------\\n\")\n"
   ]
  },
  {
   "cell_type": "markdown",
   "metadata": {},
   "source": [
    "### Predictions"
   ]
  },
  {
   "cell_type": "markdown",
   "metadata": {},
   "source": [
    "#### Weigthted Average</h3>\n",
    "\n",
    "This weighs the average of the season vs the average of the last 4 games. The weight is 0.3 for the season and 0.7 for the last 4 games.\n",
    "\n",
    "<div style=\"display: flex; align-items:center; gap: 2rem; margin-bottom: 1rem\">\n",
    "  <img src=\"./img/gb.png\" height=\"60\" width=\"60\">\n",
    "  <span style=\"font-size: 3.2rem\">22</span>\n",
    "</div>\n",
    "\n",
    "<div style=\"display: flex; align-items:center; gap: 2rem;\">\n",
    "  <img src=\"./img/dal.png\" height=\"60\" width=\"60\">\n",
    "  <span style=\"font-size: 3.2rem\">23</span>\n",
    "</div>\n",
    "\n",
    "<h5>Cumulative: 45</h5>\n",
    "\n",
    "---"
   ]
  },
  {
   "cell_type": "markdown",
   "metadata": {},
   "source": [
    "#### Three-Game Average\n",
    "\n",
    "The three-game moving average calculates the average of the last three games for each team. This is a simple way to account for recent performance.\n",
    "\n",
    "<div style=\"display: flex; align-items:center; gap: 2rem; margin-bottom: 1rem\">\n",
    "  <img src=\"./img/gb.png\" height=\"60\" width=\"60\">\n",
    "  <span style=\"font-size: 3.2rem\">28</span>\n",
    "</div>\n",
    "\n",
    "<div style=\"display: flex; align-items:center; gap: 2rem;\">\n",
    "  <img src=\"./img/dal.png\" height=\"60\" width=\"60\">\n",
    "  <span style=\"font-size: 3.2rem\">26</span>\n",
    "</div>\n",
    "\n",
    "<h5>Cumulative: 54</h5>\n",
    "\n",
    "---"
   ]
  },
  {
   "cell_type": "markdown",
   "metadata": {},
   "source": [
    "#### Previous Meeting\n",
    "\n",
    "The score of the previous meeting between the two teams.\n",
    "\n",
    "<div style=\"display: flex; align-items:center; gap: 2rem; margin-bottom: 1rem\">\n",
    "  <img src=\"./img/gb.png\" height=\"60\" width=\"60\">\n",
    "  <span style=\"font-size: 3.2rem\">31</span>\n",
    "</div>\n",
    "\n",
    "<div style=\"display: flex; align-items:center; gap: 2rem;\">\n",
    "  <img src=\"./img/dal.png\" height=\"60\" width=\"60\">\n",
    "  <span style=\"font-size: 3.2rem\">28</span>\n",
    "</div>\n",
    "\n",
    "<h5>Cumulative: 59</h5>\n",
    "\n",
    "---"
   ]
  },
  {
   "cell_type": "markdown",
   "metadata": {},
   "source": [
    "#### Average of All Predictions</h3>\n",
    "\n",
    "This is the average of all the predictions.\n",
    "\n",
    "<div style=\"display: flex; align-items:center; gap: 2rem; margin-bottom: 1rem\">\n",
    "  <img src=\"./img/gb.png\" height=\"60\" width=\"60\">\n",
    "  <span style=\"font-size: 3.2rem\">27</span>\n",
    "</div>\n",
    "\n",
    "<div style=\"display: flex; align-items:center; gap: 2rem;\">\n",
    "  <img src=\"./img/dal.png\" height=\"60\" width=\"60\">\n",
    "  <span style=\"font-size: 3.2rem\">26</span>\n",
    "</div>\n",
    "\n",
    "<h5>Cumulative: 53</h5>\n",
    "\n",
    "---"
   ]
  },
  {
   "cell_type": "markdown",
   "metadata": {},
   "source": [
    "#### Actual\n",
    "\n",
    "<div style=\"display: flex; align-items:center; gap: 2rem; margin-bottom: 1rem\">\n",
    "  <img src=\"./img/gb.png\" height=\"60\" width=\"60\">\n",
    "  <span style=\"font-size: 3.2rem\">48</span>\n",
    "</div>\n",
    "\n",
    "<div style=\"display: flex; align-items:center; gap: 2rem;\">\n",
    "  <img src=\"./img/dal.png\" height=\"60\" width=\"60\">\n",
    "  <span style=\"font-size: 3.2rem\">32</span>\n",
    "</div>\n",
    "\n",
    "<h5>Cumulative: 80</h5>"
   ]
  },
  {
   "cell_type": "markdown",
   "metadata": {},
   "source": []
  }
 ],
 "metadata": {
  "kernelspec": {
   "display_name": "venv",
   "language": "python",
   "name": "python3"
  },
  "language_info": {
   "codemirror_mode": {
    "name": "ipython",
    "version": 3
   },
   "file_extension": ".py",
   "mimetype": "text/x-python",
   "name": "python",
   "nbconvert_exporter": "python",
   "pygments_lexer": "ipython3",
   "version": "3.10.12"
  }
 },
 "nbformat": 4,
 "nbformat_minor": 5
}
