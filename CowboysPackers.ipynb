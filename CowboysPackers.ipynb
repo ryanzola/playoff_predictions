{
 "cells": [
  {
   "cell_type": "markdown",
   "metadata": {},
   "source": [
    "<h1 style=\"text-align: center\">Playoff Predictions</h1>\n",
    "\n",
    "<div style=\"display: flex; gap: 4rem; justify-content: center; align-items: center\">\n",
    "  <img src=\"./img/gb.png\">\n",
    "  <img src=\"./img/dal.png\">\n",
    "</div>"
   ]
  },
  {
   "cell_type": "code",
   "execution_count": 24,
   "id": "688e2a80-d50a-4e39-b53c-7bf1529e7706",
   "metadata": {},
   "outputs": [],
   "source": [
    "import utils\n",
    "\n",
    "# Dallas Cowboys\n",
    "dal_points_for = [40,30,16,38,10,20,43,23,49,33,45,41,33,10,20,20,38]\n",
    "dal_points_against = [0,10,28,3,42,17,20,28,17,10,10,35,13,31,22,19,10]\n",
    "dal_prev_meeting_points = 28\n",
    "dal_averages = utils.calculate_averages(dal_points_for, dal_points_against)\n",
    "\n",
    "# Green Bay Packers\n",
    "gb_points_for = [38,24,18,20,13,17,10,20,19,23,29,27,22,20,33,33,17]\n",
    "gb_points_against = [20,25,17,34,17,19,24,3,23,20,22,19,24,34,30,10,9]\n",
    "gb_prev_meeting_points = 31\n",
    "gb_averages = utils.calculate_averages(gb_points_for, gb_points_against)\n",
    "\n",
    "# predictions\n",
    "predictions = utils.calculate_predictions(dal_averages, gb_averages)\n",
    "three_game_moving_averages_dal = utils.calculate_moving_averages(dal_points_for, dal_points_against)\n",
    "three_game_moving_averages_gb = utils.calculate_moving_averages(gb_points_for, gb_points_against)\n",
    "\n",
    "# average of averages\n",
    "avg_of_avg_dal = (predictions['team1'] + three_game_moving_averages_dal['moving_average_points_for'][-1] + dal_prev_meeting_points) / 3\n",
    "avg_of_avg_gb = (predictions['team2'] + three_game_moving_averages_gb['moving_average_points_for'][-1] + gb_prev_meeting_points) / 3\n"
   ]
  },
  {
   "cell_type": "markdown",
   "metadata": {},
   "source": [
    "### Averages"
   ]
  },
  {
   "cell_type": "code",
   "execution_count": 25,
   "id": "b83e9849-63ff-428a-9345-73d20f900593",
   "metadata": {},
   "outputs": [
    {
     "name": "stdout",
     "output_type": "stream",
     "text": [
      "Dallas Cowboys\n",
      "points for (season)\t\t 30\n",
      "points for (last 4)\t\t 22 \n",
      "\n",
      "points against (season)\t\t 19\n",
      "points against (last 4)\t\t 20\n",
      "\n",
      "--------------------\n",
      "\n",
      "Green Bay Packers\n",
      "points for (season)\t\t 23\n",
      "points for (last 4)\t\t 26 \n",
      "\n",
      "points against (season)\t\t 21\n",
      "points against (last 4)\t\t 21\n",
      "\n",
      "--------------------\n",
      "\n"
     ]
    }
   ],
   "source": [
    "print(\"Dallas Cowboys\")\n",
    "print(\"points for (season)\\t\\t\",  dal_averages['average_points_for'])\n",
    "print(\"points for (last 4)\\t\\t\", dal_averages['average_last4_points_for'], '\\n')\n",
    "print(\"points against (season)\\t\\t\", dal_averages['average_points_against'])\n",
    "print(\"points against (last 4)\\t\\t\", dal_averages['average_last4_points_against'])\n",
    "\n",
    "print(\"\\n--------------------\\n\")\n",
    "\n",
    "print(\"Green Bay Packers\")\n",
    "print(\"points for (season)\\t\\t\", gb_averages['average_points_for'])\n",
    "print(\"points for (last 4)\\t\\t\", gb_averages['average_last4_points_for'], '\\n')\n",
    "print(\"points against (season)\\t\\t\", gb_averages['average_points_against'])\n",
    "print(\"points against (last 4)\\t\\t\", gb_averages['average_last4_points_against'])\n",
    "\n",
    "print(\"\\n--------------------\\n\")\n"
   ]
  },
  {
   "cell_type": "markdown",
   "metadata": {},
   "source": [
    "### Predictions"
   ]
  },
  {
   "cell_type": "markdown",
   "metadata": {},
   "source": [
    "#### Weigthted Average</h3>\n",
    "\n",
    "This weighs the average of the season vs the average of the last 4 games. The weight is 0.3 for the season and 0.7 for the last 4 games.\n",
    "\n",
    "<div style=\"display: flex; align-items:center; gap: 2rem; margin-bottom: 1rem\">\n",
    "  <img src=\"./img/gb.png\" height=\"60\" width=\"60\">\n",
    "  <span style=\"font-size: 3.2rem\">22</span>\n",
    "</div>\n",
    "\n",
    "<div style=\"display: flex; align-items:center; gap: 2rem;\">\n",
    "  <img src=\"./img/dal.png\" height=\"60\" width=\"60\">\n",
    "  <span style=\"font-size: 3.2rem\">23</span>\n",
    "</div>\n",
    "\n",
    "<h5>Cumulative: 45</h5>\n",
    "\n",
    "---"
   ]
  },
  {
   "cell_type": "markdown",
   "metadata": {},
   "source": [
    "#### Three-Game Average\n",
    "\n",
    "The three-game moving average calculates the average of the last three games for each team. This is a simple way to account for recent performance.\n",
    "\n",
    "<div style=\"display: flex; align-items:center; gap: 2rem; margin-bottom: 1rem\">\n",
    "  <img src=\"./img/gb.png\" height=\"60\" width=\"60\">\n",
    "  <span style=\"font-size: 3.2rem\">28</span>\n",
    "</div>\n",
    "\n",
    "<div style=\"display: flex; align-items:center; gap: 2rem;\">\n",
    "  <img src=\"./img/dal.png\" height=\"60\" width=\"60\">\n",
    "  <span style=\"font-size: 3.2rem\">26</span>\n",
    "</div>\n",
    "\n",
    "<h5>Cumulative: 54</h5>\n",
    "\n",
    "---"
   ]
  },
  {
   "cell_type": "markdown",
   "metadata": {},
   "source": [
    "#### Previous Meeting\n",
    "\n",
    "The score of the previous meeting between the two teams.\n",
    "\n",
    "<div style=\"display: flex; align-items:center; gap: 2rem; margin-bottom: 1rem\">\n",
    "  <img src=\"./img/gb.png\" height=\"60\" width=\"60\">\n",
    "  <span style=\"font-size: 3.2rem\">31</span>\n",
    "</div>\n",
    "\n",
    "<div style=\"display: flex; align-items:center; gap: 2rem;\">\n",
    "  <img src=\"./img/dal.png\" height=\"60\" width=\"60\">\n",
    "  <span style=\"font-size: 3.2rem\">28</span>\n",
    "</div>\n",
    "\n",
    "<h5>Cumulative: 59</h5>\n",
    "\n",
    "---"
   ]
  },
  {
   "cell_type": "markdown",
   "metadata": {},
   "source": [
    "#### Average of All Predictions</h3>\n",
    "\n",
    "This is the average of all the predictions.\n",
    "\n",
    "<div style=\"display: flex; align-items:center; gap: 2rem; margin-bottom: 1rem\">\n",
    "  <img src=\"./img/gb.png\" height=\"60\" width=\"60\">\n",
    "  <span style=\"font-size: 3.2rem\">27</span>\n",
    "</div>\n",
    "\n",
    "<div style=\"display: flex; align-items:center; gap: 2rem;\">\n",
    "  <img src=\"./img/dal.png\" height=\"60\" width=\"60\">\n",
    "  <span style=\"font-size: 3.2rem\">26</span>\n",
    "</div>\n",
    "\n",
    "<h5>Cumulative: 53</h5>\n",
    "\n",
    "---"
   ]
  },
  {
   "cell_type": "markdown",
   "metadata": {},
   "source": [
    "#### Actual\n",
    "\n",
    "<div style=\"display: flex; align-items:center; gap: 2rem; margin-bottom: 1rem\">\n",
    "  <img src=\"./img/gb.png\" height=\"60\" width=\"60\">\n",
    "  <span style=\"font-size: 3.2rem\">48</span>\n",
    "</div>\n",
    "\n",
    "<div style=\"display: flex; align-items:center; gap: 2rem;\">\n",
    "  <img src=\"./img/dal.png\" height=\"60\" width=\"60\">\n",
    "  <span style=\"font-size: 3.2rem\">32</span>\n",
    "</div>\n",
    "\n",
    "<h5>Cumulative: 80</h5>"
   ]
  },
  {
   "cell_type": "markdown",
   "metadata": {},
   "source": []
  }
 ],
 "metadata": {
  "kernelspec": {
   "display_name": "venv",
   "language": "python",
   "name": "python3"
  },
  "language_info": {
   "codemirror_mode": {
    "name": "ipython",
    "version": 3
   },
   "file_extension": ".py",
   "mimetype": "text/x-python",
   "name": "python",
   "nbconvert_exporter": "python",
   "pygments_lexer": "ipython3",
   "version": "3.10.12"
  }
 },
 "nbformat": 4,
 "nbformat_minor": 5
}
