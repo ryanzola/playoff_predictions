{
 "cells": [
  {
   "cell_type": "markdown",
   "id": "23f0ea83-c269-4018-a7f8-5e068ab4e66e",
   "metadata": {},
   "source": [
    "# Playoff Predictions"
   ]
  },
  {
   "cell_type": "markdown",
   "metadata": {},
   "source": [
    "<h1 style=\"text-align: center\">Playoff Predictions</h1>\n",
    "\n",
    "<div style=\"display: flex; gap: 4rem; justify-content: center;\">\n",
    "  <img src=\"https://a.espncdn.com/combiner/i?img=/i/teamlogos/nfl/500/cle.png&h=200&w=200\">\n",
    "  <img src=\"https://a.espncdn.com/combiner/i?img=/i/teamlogos/nfl/500/hou.png&h=200&w=200\">\n",
    "</div>"
   ]
  },
  {
   "cell_type": "markdown",
   "metadata": {},
   "source": [
    "### Methods"
   ]
  },
  {
   "cell_type": "code",
   "execution_count": 3,
   "id": "24b34bec",
   "metadata": {},
   "outputs": [],
   "source": [
    "# Calculate the average points for and against for the season and the last 4 games for each team\n",
    "def calculate_averages(points_for, points_against):\n",
    "    last4_for = points_for[-4:]\n",
    "    last4_against = points_against[-4:]\n",
    "\n",
    "    averages = {\n",
    "        'average_points_for': round(sum(points_for) / len(points_for)),\n",
    "        'average_last4_points_for': round(sum(last4_for) / len(last4_for)),\n",
    "        'average_points_against': round(sum(points_against) / len(points_against)),\n",
    "        'average_last4_points_against': round(sum(last4_against) / len(last4_against))\n",
    "    }\n",
    "    return averages\n",
    "\n",
    "# Calculate predictions for each team\n",
    "# The average of the last 4 games is weighted more heavily\n",
    "# This is because the last 4 games are more indicative of the current form of the team\n",
    "def calculate_predictions(team1, team2):\n",
    "    team1_points = ((0.3 * team1['average_points_for'] + (0.7 * team1['average_last4_points_for'])) + ((0.3 * team2['average_points_against'])+(0.7 * team2['average_last4_points_against']))) / 2\n",
    "    team2_points = ((0.3 * team2['average_points_for'] + (0.7 * team2['average_last4_points_for'])) + ((0.3 * team1['average_points_against'])+(0.7 * team1['average_last4_points_against']))) / 2\n",
    "\n",
    "    return {\n",
    "        'team1': round(team1_points),\n",
    "        'team2': round(team2_points)\n",
    "    }\n",
    "\n",
    "# Calculate 3-game moving averages for each team\n",
    "# This is used to get a better idea of the current form of the team\n",
    "def calculate_moving_averages(points_for, points_against):\n",
    "    moving_averages = {\n",
    "        'moving_average_points_for': [],\n",
    "        'moving_average_points_against': []\n",
    "    }\n",
    "\n",
    "    for i in range(len(points_for)):\n",
    "        if i < 2:\n",
    "            moving_averages['moving_average_points_for'].append(0)\n",
    "            moving_averages['moving_average_points_against'].append(0)\n",
    "        else:\n",
    "            moving_averages['moving_average_points_for'].append(round((points_for[i-2] + points_for[i-1] + points_for[i]) / 3))\n",
    "            moving_averages['moving_average_points_against'].append(round((points_against[i-2] + points_against[i-1] + points_against[i]) / 3))\n",
    "\n",
    "    return moving_averages"
   ]
  },
  {
   "cell_type": "code",
   "execution_count": 4,
   "id": "688e2a80-d50a-4e39-b53c-7bf1529e7706",
   "metadata": {},
   "outputs": [],
   "source": [
    "# cleveland browns\n",
    "cle_points_for = [24,22,27,3,19,39,20,27,33,13,12,19,31,20,36,37,14]\n",
    "cle_points_against = [3,26,3,28,17,38,24,0,31,10,29,36,27,17,22,20,31]\n",
    "cle_prev_meeting_points = 36\n",
    "cle_averages = calculate_averages(cle_points_for, cle_points_against)\n",
    "\n",
    "# houson texans\n",
    "hou_points_for = [9,20,37,30,19,20,13,39,30,21,21,22,6,19,22,26,23]\n",
    "hou_points_against = [25,31,17,6,21,13,15,37,27,16,24,17,30,16,36,3,19]\n",
    "hou_prev_meeting_points = 22\n",
    "hou_averages = calculate_averages(hou_points_for, hou_points_against)\n",
    "\n",
    "# predictions\n",
    "predictions = calculate_predictions(cle_averages, hou_averages)\n",
    "three_game_moving_averages_cle = calculate_moving_averages(cle_points_for, cle_points_against)\n",
    "three_game_moving_averages_hou = calculate_moving_averages(hou_points_for, hou_points_against)\n",
    "\n",
    "# average of averages\n",
    "avg_of_avg_cle = (predictions['team1'] + three_game_moving_averages_cle['moving_average_points_for'][-1] + cle_prev_meeting_points) / 3\n",
    "avg_of_avg_hou = (predictions['team2'] + three_game_moving_averages_hou['moving_average_points_for'][-1] + hou_prev_meeting_points) / 3\n"
   ]
  },
  {
   "cell_type": "markdown",
   "metadata": {},
   "source": [
    "### Averages"
   ]
  },
  {
   "cell_type": "code",
   "execution_count": 5,
   "id": "b83e9849-63ff-428a-9345-73d20f900593",
   "metadata": {},
   "outputs": [
    {
     "name": "stdout",
     "output_type": "stream",
     "text": [
      "Cleveland Browns\n",
      "points for (season)\t\t 23\n",
      "points for (last 4)\t\t 27 \n",
      "\n",
      "points against (season)\t\t 21\n",
      "points against (last 4)\t\t 22\n",
      "\n",
      "--------------------\n",
      "\n",
      "Houston Texans\n",
      "points for (season)\t\t 22\n",
      "points for (last 4)\t\t 22 \n",
      "\n",
      "points against (season)\t\t 21\n",
      "points against (last 4)\t\t 18\n",
      "\n",
      "--------------------\n",
      "\n"
     ]
    }
   ],
   "source": [
    "print(\"Cleveland Browns\")\n",
    "print(\"points for (season)\\t\\t\",  cle_averages['average_points_for'])\n",
    "print(\"points for (last 4)\\t\\t\", cle_averages['average_last4_points_for'], '\\n')\n",
    "print(\"points against (season)\\t\\t\", cle_averages['average_points_against'])\n",
    "print(\"points against (last 4)\\t\\t\", cle_averages['average_last4_points_against'])\n",
    "\n",
    "print(\"\\n--------------------\\n\")\n",
    "\n",
    "print(\"Houston Texans\")\n",
    "print(\"points for (season)\\t\\t\", hou_averages['average_points_for'])\n",
    "print(\"points for (last 4)\\t\\t\", hou_averages['average_last4_points_for'], '\\n')\n",
    "print(\"points against (season)\\t\\t\", hou_averages['average_points_against'])\n",
    "print(\"points against (last 4)\\t\\t\", hou_averages['average_last4_points_against'])\n",
    "\n",
    "print(\"\\n--------------------\\n\")\n"
   ]
  },
  {
   "cell_type": "markdown",
   "metadata": {},
   "source": [
    "### Predictions"
   ]
  },
  {
   "cell_type": "markdown",
   "metadata": {},
   "source": [
    "#### Weigthted Average\n",
    "\n",
    "This weighs the average of the season vs the average of the last 4 games. The weight is 0.3 for the season and 0.7 for the last 4 games."
   ]
  },
  {
   "cell_type": "code",
   "execution_count": 6,
   "id": "668ba12f-12cc-461a-87f0-e662c6a96670",
   "metadata": {},
   "outputs": [
    {
     "name": "stdout",
     "output_type": "stream",
     "text": [
      "Cleveland Browns\t\t 22\n",
      "Houston Texans\t\t\t 22\n",
      "-----------------------------------\n",
      "Cumulative\t\t\t 44 \n",
      "\n"
     ]
    }
   ],
   "source": [
    "print(\"Cleveland Browns\\t\\t\", predictions['team1'])\n",
    "print(\"Houston Texans\\t\\t\\t\", predictions['team2'])\n",
    "print(\"-----------------------------------\")\n",
    "print(\"Cumulative\\t\\t\\t\", predictions['team1'] + predictions['team2'], '\\n')"
   ]
  },
  {
   "cell_type": "markdown",
   "metadata": {},
   "source": [
    "#### Three-Game Moving Average\n",
    "\n",
    "The three-game moving average calculates the average of the last three games for each team. This is a simple way to account for recent performance."
   ]
  },
  {
   "cell_type": "code",
   "execution_count": 7,
   "metadata": {},
   "outputs": [
    {
     "name": "stdout",
     "output_type": "stream",
     "text": [
      "Three-Game Moving Average\n",
      "Cleveland Browns\t\t 29\n",
      "Houston Texans\t\t\t 24\n",
      "-----------------------------------\n",
      "Cumulative\t\t\t 53 \n",
      "\n"
     ]
    }
   ],
   "source": [
    "print(\"Three-Game Moving Average\")\n",
    "print(\"Cleveland Browns\\t\\t\", three_game_moving_averages_cle['moving_average_points_for'][-1])\n",
    "print(\"Houston Texans\\t\\t\\t\", three_game_moving_averages_hou['moving_average_points_for'][-1])\n",
    "print(\"-----------------------------------\")\n",
    "print(\"Cumulative\\t\\t\\t\", three_game_moving_averages_cle['moving_average_points_for'][-1] + three_game_moving_averages_hou['moving_average_points_for'][-1], '\\n')\n"
   ]
  },
  {
   "cell_type": "markdown",
   "metadata": {},
   "source": [
    "#### Previous Meeting\n",
    "\n",
    "The score of the previous meeting between the two teams."
   ]
  },
  {
   "cell_type": "code",
   "execution_count": 8,
   "metadata": {},
   "outputs": [
    {
     "name": "stdout",
     "output_type": "stream",
     "text": [
      "Cleveland Browns\t\t 36\n",
      "Houston Texans\t\t\t 22\n",
      "-----------------------------------\n",
      "Cumulative\t\t\t 58 \n",
      "\n"
     ]
    }
   ],
   "source": [
    "print(\"Cleveland Browns\\t\\t\", 36)\n",
    "print(\"Houston Texans\\t\\t\\t\", 22)\n",
    "print(\"-----------------------------------\")\n",
    "print(\"Cumulative\\t\\t\\t\", 36 + 22, '\\n')"
   ]
  },
  {
   "cell_type": "markdown",
   "metadata": {},
   "source": [
    "#### Average of All Predictions\n",
    "\n",
    "This is the average of all the predictions."
   ]
  },
  {
   "cell_type": "code",
   "execution_count": 9,
   "metadata": {},
   "outputs": [
    {
     "name": "stdout",
     "output_type": "stream",
     "text": [
      "Cleveland Browns\t\t 29\n",
      "Houston Texans\t\t\t 23\n",
      "-----------------------------------\n",
      "Cumulative\t\t\t 52 \n",
      "\n"
     ]
    }
   ],
   "source": [
    "print(\"Cleveland Browns\\t\\t\", round(avg_of_avg_cle))\n",
    "print(\"Houston Texans\\t\\t\\t\", round(avg_of_avg_hou))\n",
    "print(\"-----------------------------------\")\n",
    "print(\"Cumulative\\t\\t\\t\", round(avg_of_avg_cle + avg_of_avg_hou), '\\n')"
   ]
  }
 ],
 "metadata": {
  "kernelspec": {
   "display_name": "venv",
   "language": "python",
   "name": "python3"
  },
  "language_info": {
   "codemirror_mode": {
    "name": "ipython",
    "version": 3
   },
   "file_extension": ".py",
   "mimetype": "text/x-python",
   "name": "python",
   "nbconvert_exporter": "python",
   "pygments_lexer": "ipython3",
   "version": "3.10.12"
  }
 },
 "nbformat": 4,
 "nbformat_minor": 5
}
