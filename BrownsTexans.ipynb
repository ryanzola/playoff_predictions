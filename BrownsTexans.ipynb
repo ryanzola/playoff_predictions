{
 "cells": [
  {
   "cell_type": "markdown",
   "metadata": {},
   "source": [
    "<h1 style=\"text-align: center\">Playoff Predictions</h1>\n",
    "\n",
    "<div style=\"display: flex; gap: 4rem; justify-content: center;\">\n",
    "  <img src=\"./img/cle.png\">\n",
    "  <img src=\"./img/hou.png\">\n",
    "</div>"
   ]
  },
  {
   "cell_type": "code",
   "execution_count": 10,
   "id": "688e2a80-d50a-4e39-b53c-7bf1529e7706",
   "metadata": {},
   "outputs": [],
   "source": [
    "import utils\n",
    "\n",
    "# cleveland browns\n",
    "cle_points_for = [24,22,27,3,19,39,20,27,33,13,12,19,31,20,36,37,14]\n",
    "cle_points_against = [3,26,3,28,17,38,24,0,31,10,29,36,27,17,22,20,31]\n",
    "cle_prev_meeting_points = 36\n",
    "cle_averages = utils.calculate_averages(cle_points_for, cle_points_against)\n",
    "\n",
    "# houson texans\n",
    "hou_points_for = [9,20,37,30,19,20,13,39,30,21,21,22,6,19,22,26,23]\n",
    "hou_points_against = [25,31,17,6,21,13,15,37,27,16,24,17,30,16,36,3,19]\n",
    "hou_prev_meeting_points = 22\n",
    "hou_averages = utils.calculate_averages(hou_points_for, hou_points_against)\n",
    "\n",
    "# predictions\n",
    "predictions = utils.calculate_predictions(cle_averages, hou_averages)\n",
    "three_game_moving_averages_cle = utils.calculate_moving_averages(cle_points_for, cle_points_against)\n",
    "three_game_moving_averages_hou = utils.calculate_moving_averages(hou_points_for, hou_points_against)\n",
    "\n",
    "# average of averages\n",
    "avg_of_avg_cle = (predictions['team1'] + three_game_moving_averages_cle['moving_average_points_for'][-1] + cle_prev_meeting_points) / 3\n",
    "avg_of_avg_hou = (predictions['team2'] + three_game_moving_averages_hou['moving_average_points_for'][-1] + hou_prev_meeting_points) / 3\n"
   ]
  },
  {
   "cell_type": "markdown",
   "metadata": {},
   "source": [
    "### Averages"
   ]
  },
  {
   "cell_type": "code",
   "execution_count": 11,
   "id": "b83e9849-63ff-428a-9345-73d20f900593",
   "metadata": {},
   "outputs": [
    {
     "name": "stdout",
     "output_type": "stream",
     "text": [
      "Cleveland Browns\n",
      "points for (season)\t\t 23\n",
      "points for (last 4)\t\t 27 \n",
      "\n",
      "points against (season)\t\t 21\n",
      "points against (last 4)\t\t 22\n",
      "\n",
      "--------------------\n",
      "\n",
      "Houston Texans\n",
      "points for (season)\t\t 22\n",
      "points for (last 4)\t\t 22 \n",
      "\n",
      "points against (season)\t\t 21\n",
      "points against (last 4)\t\t 18\n",
      "\n",
      "--------------------\n",
      "\n"
     ]
    }
   ],
   "source": [
    "print(\"Cleveland Browns\")\n",
    "print(\"points for (season)\\t\\t\",  cle_averages['average_points_for'])\n",
    "print(\"points for (last 4)\\t\\t\", cle_averages['average_last4_points_for'], '\\n')\n",
    "print(\"points against (season)\\t\\t\", cle_averages['average_points_against'])\n",
    "print(\"points against (last 4)\\t\\t\", cle_averages['average_last4_points_against'])\n",
    "\n",
    "print(\"\\n--------------------\\n\")\n",
    "\n",
    "print(\"Houston Texans\")\n",
    "print(\"points for (season)\\t\\t\", hou_averages['average_points_for'])\n",
    "print(\"points for (last 4)\\t\\t\", hou_averages['average_last4_points_for'], '\\n')\n",
    "print(\"points against (season)\\t\\t\", hou_averages['average_points_against'])\n",
    "print(\"points against (last 4)\\t\\t\", hou_averages['average_last4_points_against'])\n",
    "\n",
    "print(\"\\n--------------------\\n\")\n"
   ]
  },
  {
   "cell_type": "markdown",
   "metadata": {},
   "source": [
    "### Predictions"
   ]
  },
  {
   "cell_type": "markdown",
   "metadata": {},
   "source": [
    "#### Weigthted Average\n",
    "\n",
    "This weighs the average of the season vs the average of the last 4 games. The weight is 0.3 for the season and 0.7 for the last 4 games.\n",
    "\n",
    "<div style=\"display: flex; align-items:center; gap: 2rem; margin-bottom: 1rem\">\n",
    "  <img src=\"./img/cle.png\" height=\"60\" width=\"60\">\n",
    "  <span style=\"font-size: 3.2rem\">22</span>\n",
    "</div>\n",
    "\n",
    "<div style=\"display: flex; align-items:center; gap: 2rem;\">\n",
    "  <img src=\"./img/hou.png\" height=\"60\" width=\"60\">\n",
    "  <span style=\"font-size: 3.2rem\">22</span>\n",
    "</div>\n",
    "\n",
    "<h4>Cumulative: 44</h4>\n",
    "\n",
    "---"
   ]
  },
  {
   "cell_type": "markdown",
   "metadata": {},
   "source": [
    "#### Three-Game Average\n",
    "\n",
    "The three-game moving average calculates the average of the last three games for each team. This is a simple way to account for recent performance.\n",
    "\n",
    "<div style=\"display: flex; align-items:center; gap: 2rem; margin-bottom: 1rem\">\n",
    "  <img src=\"./img/cle.png\" height=\"60\" width=\"60\">\n",
    "  <span style=\"font-size: 3.2rem\">29</span>\n",
    "</div>\n",
    "\n",
    "<div style=\"display: flex; align-items:center; gap: 2rem;\">\n",
    "  <img src=\"./img/hou.png\" height=\"60\" width=\"60\">\n",
    "  <span style=\"font-size: 3.2rem\">24</span>\n",
    "</div>\n",
    "\n",
    "<h4>Cumulative: 53</h4>\n",
    "\n",
    "---"
   ]
  },
  {
   "cell_type": "markdown",
   "metadata": {},
   "source": [
    "#### Previous Meeting\n",
    "\n",
    "The score of the previous meeting between the two teams.\n",
    "\n",
    "<div style=\"display: flex; align-items:center; gap: 2rem; margin-bottom: 1rem\">\n",
    "  <img src=\"./img/cle.png\" height=\"60\" width=\"60\">\n",
    "  <span style=\"font-size: 3.2rem\">36</span>\n",
    "</div>\n",
    "\n",
    "<div style=\"display: flex; align-items:center; gap: 2rem;\">\n",
    "  <img src=\"./img/hou.png\" height=\"60\" width=\"60\">\n",
    "  <span style=\"font-size: 3.2rem\">22</span>\n",
    "</div>\n",
    "\n",
    "<h5>Cumulative: 58</h5>\n",
    "\n",
    "---"
   ]
  },
  {
   "cell_type": "markdown",
   "metadata": {},
   "source": [
    "<h4>Average of All Predictions</h4>\n",
    "\n",
    "This is the average of all the predictions.\n",
    "\n",
    "<div style=\"display: flex; align-items:center; gap: 2rem; margin-bottom: 1rem\">\n",
    "  <img src=\"./img/cle.png\" height=\"60\" width=\"60\">\n",
    "  <span style=\"font-size: 3.2rem\">29</span>\n",
    "</div>\n",
    "\n",
    "<div style=\"display: flex; align-items:center; gap: 2rem;\">\n",
    "  <img src=\"./img/hou.png\" height=\"60\" width=\"60\">\n",
    "  <span style=\"font-size: 3.2rem\">23</span>\n",
    "</div>\n",
    "\n",
    "<h5>Cumulative: 52</h5>\n",
    "\n",
    "---"
   ]
  },
  {
   "cell_type": "markdown",
   "metadata": {},
   "source": [
    "<h4>Actual</h4>\n",
    "\n",
    "<div style=\"display: flex; align-items:center; gap: 2rem; margin-bottom: 1rem\">\n",
    "  <img src=\"./img/cle.png\" height=\"60\" width=\"60\">\n",
    "  <span style=\"font-size: 3.2rem\">14</span>\n",
    "</div>\n",
    "\n",
    "<div style=\"display: flex; align-items:center; gap: 2rem;\">\n",
    "  <img src=\"./img/hou.png\" height=\"60\" width=\"60\">\n",
    "  <span style=\"font-size: 3.2rem\">45</span>\n",
    "</div>\n",
    "\n",
    "<h5>Cumulative: 59</h5>"
   ]
  }
 ],
 "metadata": {
  "kernelspec": {
   "display_name": "venv",
   "language": "python",
   "name": "python3"
  },
  "language_info": {
   "codemirror_mode": {
    "name": "ipython",
    "version": 3
   },
   "file_extension": ".py",
   "mimetype": "text/x-python",
   "name": "python",
   "nbconvert_exporter": "python",
   "pygments_lexer": "ipython3",
   "version": "3.10.12"
  }
 },
 "nbformat": 4,
 "nbformat_minor": 5
}
