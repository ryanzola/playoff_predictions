{
 "cells": [
  {
   "cell_type": "markdown",
   "metadata": {},
   "source": [
    "<h1 style=\"text-align: center\">Playoff Predictions</h1>\n",
    "\n",
    "<div style=\"display: flex; gap: 4rem; justify-content: center;\">\n",
    "  <img src=\"./img/pit.png\">\n",
    "  <img src=\"./img/buf.png\">\n",
    "</div>"
   ]
  },
  {
   "cell_type": "markdown",
   "metadata": {},
   "source": [
    "### Methods"
   ]
  },
  {
   "cell_type": "code",
   "execution_count": 20,
   "id": "24b34bec",
   "metadata": {},
   "outputs": [],
   "source": [
    "# Calculate the average points for and against for the season and the last 4 games for each team\n",
    "def calculate_averages(points_for, points_against):\n",
    "    last4_for = points_for[-4:]\n",
    "    last4_against = points_against[-4:]\n",
    "\n",
    "    averages = {\n",
    "        'average_points_for': round(sum(points_for) / len(points_for)),\n",
    "        'average_last4_points_for': round(sum(last4_for) / len(last4_for)),\n",
    "        'average_points_against': round(sum(points_against) / len(points_against)),\n",
    "        'average_last4_points_against': round(sum(last4_against) / len(last4_against))\n",
    "    }\n",
    "    return averages\n",
    "\n",
    "# Calculate predictions for each team\n",
    "# The average of the last 4 games is weighted more heavily\n",
    "# This is because the last 4 games are more indicative of the current form of the team\n",
    "def calculate_predictions(team1, team2):\n",
    "    team1_points = ((0.3 * team1['average_points_for'] + (0.7 * team1['average_last4_points_for'])) + ((0.3 * team2['average_points_against'])+(0.7 * team2['average_last4_points_against']))) / 2\n",
    "    team2_points = ((0.3 * team2['average_points_for'] + (0.7 * team2['average_last4_points_for'])) + ((0.3 * team1['average_points_against'])+(0.7 * team1['average_last4_points_against']))) / 2\n",
    "\n",
    "    return {\n",
    "        'team1': round(team1_points),\n",
    "        'team2': round(team2_points)\n",
    "    }\n",
    "\n",
    "# Calculate 3-game moving averages for each team\n",
    "# This is used to get a better idea of the current form of the team\n",
    "def calculate_moving_averages(points_for, points_against):\n",
    "    moving_averages = {\n",
    "        'moving_average_points_for': [],\n",
    "        'moving_average_points_against': []\n",
    "    }\n",
    "\n",
    "    for i in range(len(points_for)):\n",
    "        if i < 2:\n",
    "            moving_averages['moving_average_points_for'].append(0)\n",
    "            moving_averages['moving_average_points_against'].append(0)\n",
    "        else:\n",
    "            moving_averages['moving_average_points_for'].append(round((points_for[i-2] + points_for[i-1] + points_for[i]) / 3))\n",
    "            moving_averages['moving_average_points_against'].append(round((points_against[i-2] + points_against[i-1] + points_against[i]) / 3))\n",
    "\n",
    "    return moving_averages"
   ]
  },
  {
   "cell_type": "markdown",
   "metadata": {},
   "source": [
    "### Data"
   ]
  },
  {
   "cell_type": "code",
   "execution_count": 21,
   "id": "688e2a80-d50a-4e39-b53c-7bf1529e7706",
   "metadata": {},
   "outputs": [],
   "source": [
    "# Buffalo Bills\n",
    "buf_points_for = [16,38,37,48,20,14,25,24,18,22,32,34,20,31,24,27,21]\n",
    "buf_points_against = [22,10,3,20,25,9,29,18,24,24,6,37,17,10,22,21,14]\n",
    "buf_prev_meeting_points = 38\n",
    "buf_averages = calculate_averages(buf_points_for, buf_points_against)\n",
    "\n",
    "# Pittsburg Steelers\n",
    "pit_points_for = [7,26,23,6,17,24,10,20,23,10,16,10,18,13,34,30,17]\n",
    "pit_points_against = [30,22,18,30,10,17,20,16,19,13,10,24,21,30,11,23,10]\n",
    "pit_prev_meeting_points = 3\n",
    "pit_averages = calculate_averages(pit_points_for, pit_points_against)\n",
    "\n",
    "# predictions\n",
    "predictions = calculate_predictions(buf_averages, pit_averages)\n",
    "three_game_moving_averages_buf = calculate_moving_averages(buf_points_for, buf_points_against)\n",
    "three_game_moving_averages_pit = calculate_moving_averages(pit_points_for, pit_points_against)\n",
    "\n",
    "# average of averages\n",
    "avg_of_avg_buf = (predictions['team1'] + three_game_moving_averages_buf['moving_average_points_for'][-1] + buf_prev_meeting_points) / 3\n",
    "avg_of_avg_pit = (predictions['team2'] + three_game_moving_averages_pit['moving_average_points_for'][-1] + pit_prev_meeting_points) / 3\n"
   ]
  },
  {
   "cell_type": "markdown",
   "metadata": {},
   "source": [
    "### Averages"
   ]
  },
  {
   "cell_type": "code",
   "execution_count": 28,
   "id": "b83e9849-63ff-428a-9345-73d20f900593",
   "metadata": {},
   "outputs": [
    {
     "name": "stdout",
     "output_type": "stream",
     "text": [
      "Buffalo Bills\n",
      "points for (season)\t\t 27\n",
      "points for (last 4)\t\t 26 \n",
      "\n",
      "points against (season)\t\t 18\n",
      "points against (last 4)\t\t 17\n",
      "\n",
      "--------------------\n",
      "\n",
      "Pittsburg Steelers\n",
      "points for (season)\t\t 18\n",
      "points for (last 4)\t\t 24 \n",
      "\n",
      "points against (season)\t\t 19\n",
      "points against (last 4)\t\t 18\n"
     ]
    }
   ],
   "source": [
    "print(\"Buffalo Bills\")\n",
    "print(\"points for (season)\\t\\t\",  buf_averages['average_points_for'])\n",
    "print(\"points for (last 4)\\t\\t\", buf_averages['average_last4_points_for'], '\\n')\n",
    "print(\"points against (season)\\t\\t\", buf_averages['average_points_against'])\n",
    "print(\"points against (last 4)\\t\\t\", buf_averages['average_last4_points_against'])\n",
    "\n",
    "print(\"\\n--------------------\\n\")\n",
    "\n",
    "print(\"Pittsburg Steelers\")\n",
    "print(\"points for (season)\\t\\t\", pit_averages['average_points_for'])\n",
    "print(\"points for (last 4)\\t\\t\", pit_averages['average_last4_points_for'], '\\n')\n",
    "print(\"points against (season)\\t\\t\", pit_averages['average_points_against'])\n",
    "print(\"points against (last 4)\\t\\t\", pit_averages['average_last4_points_against'])\n"
   ]
  },
  {
   "cell_type": "markdown",
   "metadata": {},
   "source": [
    "---"
   ]
  },
  {
   "cell_type": "markdown",
   "metadata": {},
   "source": [
    "### Predictions"
   ]
  },
  {
   "cell_type": "markdown",
   "metadata": {},
   "source": [
    "#### Weigthted Average\n",
    "\n",
    "This weighs the average of the season vs the average of the last 4 games. The weight is 0.3 for the season and 0.7 for the last 4 games.\n",
    "\n",
    "<div style=\"display: flex; align-items:center; gap: 2rem; margin-bottom: 1rem\">\n",
    "  <img src=\"./img/pit.png\" height=\"60\" width=\"60\">\n",
    "  <span style=\"font-size: 3.2rem\">20</span>\n",
    "</div>\n",
    "\n",
    "<div style=\"display: flex; align-items:center; gap: 2rem;\">\n",
    "  <img src=\"./img/buf.png\" height=\"60\" width=\"60\">\n",
    "  <span style=\"font-size: 3.2rem\">22</span>\n",
    "</div>\n",
    "\n",
    "<h5>Cumulative: 42</h5>\n",
    "\n",
    "---"
   ]
  },
  {
   "cell_type": "markdown",
   "metadata": {},
   "source": [
    "#### Three-Game Moving Average\n",
    "\n",
    "The three-game moving average calculates the average of the last three games for each team. This is a simple way to account for recent performance.\n",
    "\n",
    "<div style=\"display: flex; align-items:center; gap: 2rem; margin-bottom: 1rem\">\n",
    "  <img src=\"./img/pit.png\" height=\"60\" width=\"60\">\n",
    "  <span style=\"font-size: 3.2rem\">27</span>\n",
    "</div>\n",
    "\n",
    "<div style=\"display: flex; align-items:center; gap: 2rem;\">\n",
    "  <img src=\"./img/buf.png\" height=\"60\" width=\"60\">\n",
    "  <span style=\"font-size: 3.2rem\">24</span>\n",
    "</div>\n",
    "\n",
    "<h5>Cumulative: 51</h5>\n",
    "\n",
    "---"
   ]
  },
  {
   "cell_type": "markdown",
   "metadata": {},
   "source": [
    "#### Previous Meeting\n",
    "\n",
    "The score of the previous meeting between the two teams.\n",
    "\n",
    "<div style=\"display: flex; align-items:center; gap: 2rem; margin-bottom: 1rem\">\n",
    "  <img src=\"./img/pit.png\" height=\"60\" width=\"60\">\n",
    "  <span style=\"font-size: 3.2rem\">3</span>\n",
    "</div>\n",
    "\n",
    "<div style=\"display: flex; align-items:center; gap: 2rem;\">\n",
    "  <img src=\"./img/buf.png\" height=\"60\" width=\"60\">\n",
    "  <span style=\"font-size: 3.2rem\">38</span>\n",
    "</div>\n",
    "\n",
    "<h5>Cumulative: 41</h5>\n",
    "\n",
    "---"
   ]
  },
  {
   "cell_type": "markdown",
   "metadata": {},
   "source": [
    "#### Average of All Predictions\n",
    "\n",
    "This is the average of all the predictions.\n",
    "\n",
    "<div style=\"display: flex; align-items:center; gap: 2rem; margin-bottom: 1rem\">\n",
    "  <img src=\"./img/pit.png\" height=\"60\" width=\"60\">\n",
    "  <span style=\"font-size: 3.2rem\">17</span>\n",
    "</div>\n",
    "\n",
    "<div style=\"display: flex; align-items:center; gap: 2rem;\">\n",
    "  <img src=\"./img/buf.png\" height=\"60\" width=\"60\">\n",
    "  <span style=\"font-size: 3.2rem\">28</span>\n",
    "</div>\n",
    "\n",
    "<h5>Cumulative: 45</h5>\n",
    "\n",
    "---"
   ]
  },
  {
   "cell_type": "markdown",
   "metadata": {},
   "source": [
    "<h2>Actual</h2>\n",
    "\n",
    "<div style=\"display: flex; align-items:center; gap: 2rem; margin-bottom: 1rem\">\n",
    "  <img src=\"./img/buf.png\" height=\"60\" width=\"60\">\n",
    "  <span style=\"font-size: 3.2rem\"></span>\n",
    "</div>\n",
    "\n",
    "<div style=\"display: flex; align-items:center; gap: 2rem;\">\n",
    "  <img src=\"./img/pit.png\" height=\"60\" width=\"60\">\n",
    "  <span style=\"font-size: 3.2rem\"></span>\n",
    "</div>\n",
    "\n",
    "<h3>Cumulative:</h3>"
   ]
  },
  {
   "cell_type": "markdown",
   "metadata": {},
   "source": []
  }
 ],
 "metadata": {
  "kernelspec": {
   "display_name": "venv",
   "language": "python",
   "name": "python3"
  },
  "language_info": {
   "codemirror_mode": {
    "name": "ipython",
    "version": 3
   },
   "file_extension": ".py",
   "mimetype": "text/x-python",
   "name": "python",
   "nbconvert_exporter": "python",
   "pygments_lexer": "ipython3",
   "version": "3.10.12"
  }
 },
 "nbformat": 4,
 "nbformat_minor": 5
}
