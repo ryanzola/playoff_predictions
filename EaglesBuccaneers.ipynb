{
 "cells": [
  {
   "cell_type": "markdown",
   "metadata": {},
   "source": [
    "<h1 style=\"text-align: center\">Playoff Predictions</h1>\n",
    "\n",
    "<div style=\"display: flex; gap: 4rem; justify-content: center;\">\n",
    "  <img src=\"./img/phi.png\">\n",
    "  <img src=\"./img/tb.png\">\n",
    "</div>"
   ]
  },
  {
   "cell_type": "markdown",
   "metadata": {},
   "source": [
    "### Data"
   ]
  },
  {
   "cell_type": "code",
   "execution_count": 25,
   "id": "688e2a80-d50a-4e39-b53c-7bf1529e7706",
   "metadata": {},
   "outputs": [],
   "source": [
    "import utils\n",
    "\n",
    "# Philadelphia Eagles\n",
    "phi_points_for = [25,34,25,34,23,14,31,38,28,21,37,19,13,17,33,31,10]\n",
    "phi_points_against = [20,28,11,31,14,20,17,31,23,17,34,42,33,20,25,35,27]\n",
    "phi_prev_meeting_points = 22\n",
    "phi_averages = utils.calculate_averages(phi_points_for, phi_points_against)\n",
    "\n",
    "# Tampa Bay Buccaneers\n",
    "tb_points_for = [20,27,11,26,6,13,18,37,20,14,20,21,29,34,30,13,9]\n",
    "tb_points_against = [17,17,25,9,20,16,24,39,6,27,27,18,25,20,12,23,0]\n",
    "tb_prev_meeting_points = 28\n",
    "tb_averages = utils.calculate_averages(tb_points_for, tb_points_against)\n",
    "\n",
    "# predictions\n",
    "predictions = utils.calculate_predictions(phi_averages, tb_averages)\n",
    "three_game_moving_averages_phi = utils.calculate_moving_averages(phi_points_for, phi_points_against)\n",
    "three_game_moving_averages_tb = utils.calculate_moving_averages(tb_points_for, tb_points_against)\n",
    "\n",
    "# average of averages\n",
    "avg_of_avg_phi = (predictions['team1'] + three_game_moving_averages_phi['moving_average_points_for'][-1] + phi_prev_meeting_points) / 3\n",
    "avg_of_avg_tb = (predictions['team2'] + three_game_moving_averages_tb['moving_average_points_for'][-1] + tb_prev_meeting_points) / 3\n"
   ]
  },
  {
   "cell_type": "markdown",
   "metadata": {},
   "source": [
    "### Averages"
   ]
  },
  {
   "cell_type": "code",
   "execution_count": 26,
   "id": "b83e9849-63ff-428a-9345-73d20f900593",
   "metadata": {},
   "outputs": [
    {
     "name": "stdout",
     "output_type": "stream",
     "text": [
      "Philadelphia Eagles\n",
      "points for (season)\t\t 25\n",
      "points for (last 4)\t\t 23 \n",
      "\n",
      "points against (season)\t\t 25\n",
      "points against (last 4)\t\t 27\n",
      "\n",
      "--------------------\n",
      "\n",
      "Tampa Bay Buccaneers\n",
      "points for (season)\t\t 20\n",
      "points for (last 4)\t\t 22 \n",
      "\n",
      "points against (season)\t\t 19\n",
      "points against (last 4)\t\t 14\n"
     ]
    }
   ],
   "source": [
    "print(\"Philadelphia Eagles\")\n",
    "print(\"points for (season)\\t\\t\",  phi_averages['average_points_for'])\n",
    "print(\"points for (last 4)\\t\\t\", phi_averages['average_last4_points_for'], '\\n')\n",
    "print(\"points against (season)\\t\\t\", phi_averages['average_points_against'])\n",
    "print(\"points against (last 4)\\t\\t\", phi_averages['average_last4_points_against'])\n",
    "\n",
    "print(\"\\n--------------------\\n\")\n",
    "\n",
    "print(\"Tampa Bay Buccaneers\")\n",
    "print(\"points for (season)\\t\\t\", tb_averages['average_points_for'])\n",
    "print(\"points for (last 4)\\t\\t\", tb_averages['average_last4_points_for'], '\\n')\n",
    "print(\"points against (season)\\t\\t\", tb_averages['average_points_against'])\n",
    "print(\"points against (last 4)\\t\\t\", tb_averages['average_last4_points_against'])"
   ]
  },
  {
   "cell_type": "markdown",
   "metadata": {},
   "source": [
    "---"
   ]
  },
  {
   "cell_type": "markdown",
   "metadata": {},
   "source": [
    "### Predictions"
   ]
  },
  {
   "cell_type": "markdown",
   "metadata": {},
   "source": [
    "#### Weigthted Average\n",
    "\n",
    "This weighs the average of the season vs the average of the last 4 games. The weight is 0.3 for the season and 0.7 for the last 4 games.\n",
    "\n",
    "<div style=\"display: flex; align-items:center; gap: 2rem; margin-bottom: 1rem\">\n",
    "  <img src=\"./img/phi.png\" height=\"60\" width=\"60\">\n",
    "  <span style=\"font-size: 3.2rem\">20</span>\n",
    "</div>\n",
    "\n",
    "<div style=\"display: flex; align-items:center; gap: 2rem;\">\n",
    "  <img src=\"./img/tb.png\" height=\"60\" width=\"60\">\n",
    "  <span style=\"font-size: 3.2rem\">24</span>\n",
    "</div>\n",
    "\n",
    "<h5>Cumulative: 44</h5>\n",
    "\n",
    "---"
   ]
  },
  {
   "cell_type": "markdown",
   "metadata": {},
   "source": [
    "#### Three-Game Average\n",
    "\n",
    "The three-game moving average calculates the average of the last three games for each team. This is a simple way to account for recent performance.\n",
    "\n",
    "<div style=\"display: flex; align-items:center; gap: 2rem; margin-bottom: 1rem\">\n",
    "  <img src=\"./img/phi.png\" height=\"60\" width=\"60\">\n",
    "  <span style=\"font-size: 3.2rem\">25</span>\n",
    "</div>\n",
    "\n",
    "<div style=\"display: flex; align-items:center; gap: 2rem;\">\n",
    "  <img src=\"./img/tb.png\" height=\"60\" width=\"60\">\n",
    "  <span style=\"font-size: 3.2rem\">17</span>\n",
    "</div>\n",
    "\n",
    "<h5>Cumulative: 42</h5>\n",
    "\n",
    "---"
   ]
  },
  {
   "cell_type": "markdown",
   "metadata": {},
   "source": [
    "#### Previous Meeting\n",
    "\n",
    "The score of the previous meeting between the two teams.\n",
    "\n",
    "<div style=\"display: flex; align-items:center; gap: 2rem; margin-bottom: 1rem\">\n",
    "  <img src=\"./img/phi.png\" height=\"60\" width=\"60\">\n",
    "  <span style=\"font-size: 3.2rem\">22</span>\n",
    "</div>\n",
    "\n",
    "<div style=\"display: flex; align-items:center; gap: 2rem;\">\n",
    "  <img src=\"./img/tb.png\" height=\"60\" width=\"60\">\n",
    "  <span style=\"font-size: 3.2rem\">28</span>\n",
    "</div>\n",
    "\n",
    "<h5>Cumulative: 50</h5>\n",
    "\n",
    "---"
   ]
  },
  {
   "cell_type": "markdown",
   "metadata": {},
   "source": [
    "#### Average of All Predictions\n",
    "\n",
    "This is the average of all the predictions.\n",
    "\n",
    "<div style=\"display: flex; align-items:center; gap: 2rem; margin-bottom: 1rem\">\n",
    "  <img src=\"./img/phi.png\" height=\"60\" width=\"60\">\n",
    "  <span style=\"font-size: 3.2rem\">22</span>\n",
    "</div>\n",
    "\n",
    "<div style=\"display: flex; align-items:center; gap: 2rem;\">\n",
    "  <img src=\"./img/tb.png\" height=\"60\" width=\"60\">\n",
    "  <span style=\"font-size: 3.2rem\">23</span>\n",
    "</div>\n",
    "\n",
    "<h5>Cumulative: 45</h5>\n",
    "\n",
    "---"
   ]
  },
  {
   "cell_type": "markdown",
   "metadata": {},
   "source": [
    "#### Actual\n",
    "\n",
    "<div style=\"display: flex; align-items:center; gap: 2rem; margin-bottom: 1rem\">\n",
    "  <img src=\"./img/phi.png\" height=\"60\" width=\"60\">\n",
    "  <span style=\"font-size: 3.2rem\">9</span>\n",
    "</div>\n",
    "\n",
    "<div style=\"display: flex; align-items:center; gap: 2rem;\">\n",
    "  <img src=\"./img/tb.png\" height=\"60\" width=\"60\">\n",
    "  <span style=\"font-size: 3.2rem\">32</span>\n",
    "</div>\n",
    "\n",
    "<h5>Cumulative: 41</h5>"
   ]
  }
 ],
 "metadata": {
  "kernelspec": {
   "display_name": "venv",
   "language": "python",
   "name": "python3"
  },
  "language_info": {
   "codemirror_mode": {
    "name": "ipython",
    "version": 3
   },
   "file_extension": ".py",
   "mimetype": "text/x-python",
   "name": "python",
   "nbconvert_exporter": "python",
   "pygments_lexer": "ipython3",
   "version": "3.10.12"
  }
 },
 "nbformat": 4,
 "nbformat_minor": 5
}
