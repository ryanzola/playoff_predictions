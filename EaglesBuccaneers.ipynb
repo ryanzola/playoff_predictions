{
 "cells": [
  {
   "cell_type": "markdown",
   "metadata": {},
   "source": [
    "<h1 style=\"text-align: center\">Playoff Predictions</h1>\n",
    "\n",
    "<div style=\"display: flex; gap: 4rem; justify-content: center;\">\n",
    "  <img src=\"https://a.espncdn.com/combiner/i?img=/i/teamlogos/nfl/500/phi.png&h=200&w=200\">\n",
    "  <img src=\"https://a.espncdn.com/combiner/i?img=/i/teamlogos/nfl/500/tb.png&h=200&w=200\">\n",
    "</div>"
   ]
  },
  {
   "cell_type": "markdown",
   "metadata": {},
   "source": [
    "### Methods"
   ]
  },
  {
   "cell_type": "code",
   "execution_count": 16,
   "id": "24b34bec",
   "metadata": {},
   "outputs": [],
   "source": [
    "# Calculate the average points for and against for the season and the last 4 games for each team\n",
    "def calculate_averages(points_for, points_against):\n",
    "    last4_for = points_for[-4:]\n",
    "    last4_against = points_against[-4:]\n",
    "\n",
    "    averages = {\n",
    "        'average_points_for': round(sum(points_for) / len(points_for)),\n",
    "        'average_last4_points_for': round(sum(last4_for) / len(last4_for)),\n",
    "        'average_points_against': round(sum(points_against) / len(points_against)),\n",
    "        'average_last4_points_against': round(sum(last4_against) / len(last4_against))\n",
    "    }\n",
    "    return averages\n",
    "\n",
    "# Calculate predictions for each team\n",
    "# The average of the last 4 games is weighted more heavily\n",
    "# This is because the last 4 games are more indicative of the current form of the team\n",
    "def calculate_predictions(team1, team2):\n",
    "    team1_points = ((0.3 * team1['average_points_for'] + (0.7 * team1['average_last4_points_for'])) + ((0.3 * team2['average_points_against'])+(0.7 * team2['average_last4_points_against']))) / 2\n",
    "    team2_points = ((0.3 * team2['average_points_for'] + (0.7 * team2['average_last4_points_for'])) + ((0.3 * team1['average_points_against'])+(0.7 * team1['average_last4_points_against']))) / 2\n",
    "\n",
    "    return {\n",
    "        'team1': round(team1_points),\n",
    "        'team2': round(team2_points)\n",
    "    }\n",
    "\n",
    "# Calculate 3-game moving averages for each team\n",
    "# This is used to get a better idea of the current form of the team\n",
    "def calculate_moving_averages(points_for, points_against):\n",
    "    moving_averages = {\n",
    "        'moving_average_points_for': [],\n",
    "        'moving_average_points_against': []\n",
    "    }\n",
    "\n",
    "    for i in range(len(points_for)):\n",
    "        if i < 2:\n",
    "            moving_averages['moving_average_points_for'].append(0)\n",
    "            moving_averages['moving_average_points_against'].append(0)\n",
    "        else:\n",
    "            moving_averages['moving_average_points_for'].append(round((points_for[i-2] + points_for[i-1] + points_for[i]) / 3))\n",
    "            moving_averages['moving_average_points_against'].append(round((points_against[i-2] + points_against[i-1] + points_against[i]) / 3))\n",
    "\n",
    "    return moving_averages"
   ]
  },
  {
   "cell_type": "markdown",
   "metadata": {},
   "source": [
    "### Data"
   ]
  },
  {
   "cell_type": "code",
   "execution_count": 17,
   "id": "688e2a80-d50a-4e39-b53c-7bf1529e7706",
   "metadata": {},
   "outputs": [],
   "source": [
    "# Philadelphia Eagles\n",
    "phi_points_for = [25,34,25,34,23,14,31,38,28,21,37,19,13,17,33,31,10]\n",
    "phi_points_against = [20,28,11,31,14,20,17,31,23,17,34,42,33,20,25,35,27]\n",
    "phi_prev_meeting_points = 22\n",
    "phi_averages = calculate_averages(phi_points_for, phi_points_against)\n",
    "\n",
    "# Tampa Bay Buccaneers\n",
    "tb_points_for = [20,27,11,26,6,13,18,37,20,14,20,21,29,34,30,13,9]\n",
    "tb_points_against = [17,17,25,9,20,16,24,39,6,27,27,18,25,20,12,23,0]\n",
    "tb_prev_meeting_points = 28\n",
    "tb_averages = calculate_averages(tb_points_for, tb_points_against)\n",
    "\n",
    "# predictions\n",
    "predictions = calculate_predictions(phi_averages, tb_averages)\n",
    "three_game_moving_averages_phi = calculate_moving_averages(phi_points_for, phi_points_against)\n",
    "three_game_moving_averages_tb = calculate_moving_averages(tb_points_for, tb_points_against)\n",
    "\n",
    "# average of averages\n",
    "avg_of_avg_phi = (predictions['team1'] + three_game_moving_averages_phi['moving_average_points_for'][-1] + phi_prev_meeting_points) / 3\n",
    "avg_of_avg_tb = (predictions['team2'] + three_game_moving_averages_tb['moving_average_points_for'][-1] + tb_prev_meeting_points) / 3\n"
   ]
  },
  {
   "cell_type": "markdown",
   "metadata": {},
   "source": [
    "### Averages"
   ]
  },
  {
   "cell_type": "code",
   "execution_count": 18,
   "id": "b83e9849-63ff-428a-9345-73d20f900593",
   "metadata": {},
   "outputs": [
    {
     "name": "stdout",
     "output_type": "stream",
     "text": [
      "Philadelphia Eagles\n",
      "points for (season)\t\t 25\n",
      "points for (last 4)\t\t 23 \n",
      "\n",
      "points against (season)\t\t 25\n",
      "points against (last 4)\t\t 27\n",
      "\n",
      "--------------------\n",
      "\n",
      "Tampa Bay Buccaneers\n",
      "points for (season)\t\t 20\n",
      "points for (last 4)\t\t 22 \n",
      "\n",
      "points against (season)\t\t 19\n",
      "points against (last 4)\t\t 14\n",
      "\n",
      "--------------------\n",
      "\n"
     ]
    }
   ],
   "source": [
    "print(\"Philadelphia Eagles\")\n",
    "print(\"points for (season)\\t\\t\",  phi_averages['average_points_for'])\n",
    "print(\"points for (last 4)\\t\\t\", phi_averages['average_last4_points_for'], '\\n')\n",
    "print(\"points against (season)\\t\\t\", phi_averages['average_points_against'])\n",
    "print(\"points against (last 4)\\t\\t\", phi_averages['average_last4_points_against'])\n",
    "\n",
    "print(\"\\n--------------------\\n\")\n",
    "\n",
    "print(\"Tampa Bay Buccaneers\")\n",
    "print(\"points for (season)\\t\\t\", tb_averages['average_points_for'])\n",
    "print(\"points for (last 4)\\t\\t\", tb_averages['average_last4_points_for'], '\\n')\n",
    "print(\"points against (season)\\t\\t\", tb_averages['average_points_against'])\n",
    "print(\"points against (last 4)\\t\\t\", tb_averages['average_last4_points_against'])\n",
    "\n",
    "print(\"\\n--------------------\\n\")\n"
   ]
  },
  {
   "cell_type": "markdown",
   "metadata": {},
   "source": [
    "### Predictions"
   ]
  },
  {
   "cell_type": "markdown",
   "metadata": {},
   "source": [
    "#### Weigthted Average\n",
    "\n",
    "This weighs the average of the season vs the average of the last 4 games. The weight is 0.3 for the season and 0.7 for the last 4 games."
   ]
  },
  {
   "cell_type": "code",
   "execution_count": 19,
   "id": "668ba12f-12cc-461a-87f0-e662c6a96670",
   "metadata": {},
   "outputs": [
    {
     "name": "stdout",
     "output_type": "stream",
     "text": [
      "Philadelphia Eagles\t\t 20\n",
      "Tampa Bay Buccaneers\t\t 24\n",
      "-----------------------------------\n",
      "Cumulative\t\t\t 44 \n",
      "\n"
     ]
    }
   ],
   "source": [
    "print(\"Philadelphia Eagles\\t\\t\", predictions['team1'])\n",
    "print(\"Tampa Bay Buccaneers\\t\\t\", predictions['team2'])\n",
    "print(\"-----------------------------------\")\n",
    "print(\"Cumulative\\t\\t\\t\", predictions['team1'] + predictions['team2'], '\\n')"
   ]
  },
  {
   "cell_type": "markdown",
   "metadata": {},
   "source": [
    "#### Three-Game Moving Average\n",
    "\n",
    "The three-game moving average calculates the average of the last three games for each team. This is a simple way to account for recent performance."
   ]
  },
  {
   "cell_type": "code",
   "execution_count": 20,
   "metadata": {},
   "outputs": [
    {
     "name": "stdout",
     "output_type": "stream",
     "text": [
      "Three-Game Moving Average\n",
      "Philadelphia Eagles\t\t 25\n",
      "Tampa Bay Buccaneers\t\t 17\n",
      "-----------------------------------\n",
      "Cumulative\t\t\t 42 \n",
      "\n"
     ]
    }
   ],
   "source": [
    "print(\"Three-Game Moving Average\")\n",
    "print(\"Philadelphia Eagles\\t\\t\", three_game_moving_averages_phi['moving_average_points_for'][-1])\n",
    "print(\"Tampa Bay Buccaneers\\t\\t\", three_game_moving_averages_tb['moving_average_points_for'][-1])\n",
    "print(\"-----------------------------------\")\n",
    "print(\"Cumulative\\t\\t\\t\", three_game_moving_averages_phi['moving_average_points_for'][-1] + three_game_moving_averages_tb['moving_average_points_for'][-1], '\\n')\n"
   ]
  },
  {
   "cell_type": "markdown",
   "metadata": {},
   "source": [
    "#### Previous Meeting\n",
    "\n",
    "The score of the previous meeting between the two teams."
   ]
  },
  {
   "cell_type": "code",
   "execution_count": 21,
   "metadata": {},
   "outputs": [
    {
     "name": "stdout",
     "output_type": "stream",
     "text": [
      "Philadelphia Eagles\t\t 22\n",
      "Tampa Bay Buccaneers\t\t 28\n",
      "-----------------------------------\n",
      "Cumulative\t\t\t 50 \n",
      "\n"
     ]
    }
   ],
   "source": [
    "print(\"Philadelphia Eagles\\t\\t\", phi_prev_meeting_points)\n",
    "print(\"Tampa Bay Buccaneers\\t\\t\", tb_prev_meeting_points)\n",
    "print(\"-----------------------------------\")\n",
    "print(\"Cumulative\\t\\t\\t\", phi_prev_meeting_points + tb_prev_meeting_points, '\\n')"
   ]
  },
  {
   "cell_type": "markdown",
   "metadata": {},
   "source": [
    "#### Average of All Predictions\n",
    "\n",
    "This is the average of all the predictions."
   ]
  },
  {
   "cell_type": "code",
   "execution_count": 22,
   "metadata": {},
   "outputs": [
    {
     "name": "stdout",
     "output_type": "stream",
     "text": [
      "Philadelphia Eagles\t\t 22\n",
      "Tampa Bay Buccaneers\t\t 23\n",
      "-----------------------------------\n",
      "Cumulative\t\t\t 45 \n",
      "\n"
     ]
    }
   ],
   "source": [
    "print(\"Philadelphia Eagles\\t\\t\", round(avg_of_avg_phi))\n",
    "print(\"Tampa Bay Buccaneers\\t\\t\", round(avg_of_avg_tb))\n",
    "print(\"-----------------------------------\")\n",
    "print(\"Cumulative\\t\\t\\t\", round(avg_of_avg_phi + avg_of_avg_tb), '\\n')"
   ]
  },
  {
   "cell_type": "code",
   "execution_count": null,
   "metadata": {},
   "outputs": [],
   "source": []
  }
 ],
 "metadata": {
  "kernelspec": {
   "display_name": "venv",
   "language": "python",
   "name": "python3"
  },
  "language_info": {
   "codemirror_mode": {
    "name": "ipython",
    "version": 3
   },
   "file_extension": ".py",
   "mimetype": "text/x-python",
   "name": "python",
   "nbconvert_exporter": "python",
   "pygments_lexer": "ipython3",
   "version": "3.10.12"
  }
 },
 "nbformat": 4,
 "nbformat_minor": 5
}
