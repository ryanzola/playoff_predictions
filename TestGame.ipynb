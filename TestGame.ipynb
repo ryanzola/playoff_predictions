{
 "cells": [
  {
   "cell_type": "markdown",
   "metadata": {},
   "source": [
    "<h1 style=\"text-align: center\">Playoff Predictions</h1>\n",
    "\n",
    "<div style=\"display: flex; gap: 4rem; justify-content: center;\">\n",
    "  <img src=\"./img/sf.png\">\n",
    "  <img src=\"./img/sea.png\">\n",
    "</div>"
   ]
  },
  {
   "cell_type": "markdown",
   "metadata": {},
   "source": [
    "### Data"
   ]
  },
  {
   "cell_type": "code",
   "execution_count": 2,
   "id": "688e2a80-d50a-4e39-b53c-7bf1529e7706",
   "metadata": {},
   "outputs": [],
   "source": [
    "import utils\n",
    "\n",
    "# San Francisco 49ers\n",
    "sf_points_for = [10,27,10,24,37,14,23,31,22,38,13,33,35,21,37,37,38]\n",
    "sf_points_against = [19,7,11,9,15,28,44,14,16,10,0,17,7,13,20,34,13]\n",
    "sf_prev_meeting_points = 27\n",
    "sf_averages = utils.calculate_averages(sf_points_for, sf_points_against)\n",
    "\n",
    "# Seattle Seahawks\n",
    "sea_points_for = [17,7,23,48,32,19,37,27,31,16,34,27,24,13,10,23,19]\n",
    "sea_points_against = [16,27,27,45,39,9,23,13,21,21,40,23,30,21,24,6,16]\n",
    "sea_prev_meeting_points = 7\n",
    "sea_averages = utils.calculate_averages(sea_points_for, sea_points_against)\n",
    "\n",
    "# predictions\n",
    "predictions = utils.calculate_predictions(sf_averages, sea_averages)\n",
    "three_game_moving_averages_sf = utils.calculate_moving_averages(sf_points_for, sf_points_against)\n",
    "three_game_moving_averages_sea = utils.calculate_moving_averages(sea_points_for, sea_points_against)\n",
    "\n",
    "# average of averages\n",
    "avg_of_avg_sf = (predictions['team1'] + three_game_moving_averages_sf['moving_average_points_for'][-1] + sf_prev_meeting_points) / 3\n",
    "avg_of_avg_sea = (predictions['team2'] + three_game_moving_averages_sea['moving_average_points_for'][-1] + sea_prev_meeting_points) / 3\n"
   ]
  },
  {
   "cell_type": "markdown",
   "metadata": {},
   "source": [
    "### Averages"
   ]
  },
  {
   "cell_type": "code",
   "execution_count": 3,
   "id": "b83e9849-63ff-428a-9345-73d20f900593",
   "metadata": {},
   "outputs": [
    {
     "name": "stdout",
     "output_type": "stream",
     "text": [
      "San Francisco 49ers\n",
      "points for (season)\t\t 26\n",
      "points for (last 4)\t\t 33 \n",
      "\n",
      "points against (season)\t\t 16\n",
      "points against (last 4)\t\t 20\n",
      "\n",
      "--------------------\n",
      "\n",
      "Seattle Seahawks\n",
      "points for (season)\t\t 24\n",
      "points for (last 4)\t\t 16 \n",
      "\n",
      "points against (season)\t\t 24\n",
      "points against (last 4)\t\t 17\n",
      "\n",
      "--------------------\n",
      "\n"
     ]
    }
   ],
   "source": [
    "print(\"San Francisco 49ers\")\n",
    "print(\"points for (season)\\t\\t\",  sf_averages['average_points_for'])\n",
    "print(\"points for (last 4)\\t\\t\", sf_averages['average_last4_points_for'], '\\n')\n",
    "print(\"points against (season)\\t\\t\", sf_averages['average_points_against'])\n",
    "print(\"points against (last 4)\\t\\t\", sf_averages['average_last4_points_against'])\n",
    "\n",
    "print(\"\\n--------------------\\n\")\n",
    "\n",
    "print(\"Seattle Seahawks\")\n",
    "print(\"points for (season)\\t\\t\", sea_averages['average_points_for'])\n",
    "print(\"points for (last 4)\\t\\t\", sea_averages['average_last4_points_for'], '\\n')\n",
    "print(\"points against (season)\\t\\t\", sea_averages['average_points_against'])\n",
    "print(\"points against (last 4)\\t\\t\", sea_averages['average_last4_points_against'])\n",
    "\n",
    "print(\"\\n--------------------\\n\")\n"
   ]
  },
  {
   "cell_type": "markdown",
   "metadata": {},
   "source": [
    "### Predictions"
   ]
  },
  {
   "cell_type": "markdown",
   "metadata": {},
   "source": [
    "#### Weigthted Average\n",
    "\n",
    "This weighs the average of the season vs the average of the last 4 games. The weight is 0.3 for the season and 0.7 for the last 4 games."
   ]
  },
  {
   "cell_type": "code",
   "execution_count": 4,
   "id": "668ba12f-12cc-461a-87f0-e662c6a96670",
   "metadata": {},
   "outputs": [
    {
     "name": "stdout",
     "output_type": "stream",
     "text": [
      "San Francisco 49ers\t\t 25\n",
      "Seattle Seahawks\t\t 19\n",
      "-----------------------------------\n",
      "Cumulative\t\t\t 44 \n",
      "\n"
     ]
    }
   ],
   "source": [
    "print(\"San Francisco 49ers\\t\\t\", predictions['team1'])\n",
    "print(\"Seattle Seahawks\\t\\t\", predictions['team2'])\n",
    "print(\"-----------------------------------\")\n",
    "print(\"Cumulative\\t\\t\\t\", predictions['team1'] + predictions['team2'], '\\n')"
   ]
  },
  {
   "cell_type": "markdown",
   "metadata": {},
   "source": [
    "#### Three-Game Moving Average\n",
    "\n",
    "The three-game moving average calculates the average of the last three games for each team. This is a simple way to account for recent performance."
   ]
  },
  {
   "cell_type": "code",
   "execution_count": 5,
   "metadata": {},
   "outputs": [
    {
     "name": "stdout",
     "output_type": "stream",
     "text": [
      "Three-Game Moving Average\n",
      "San Francisco 49ers\t\t 37\n",
      "Seattle Seahawks\t\t 17\n",
      "-----------------------------------\n",
      "Cumulative\t\t\t 54 \n",
      "\n"
     ]
    }
   ],
   "source": [
    "print(\"Three-Game Moving Average\")\n",
    "print(\"San Francisco 49ers\\t\\t\", three_game_moving_averages_sf['moving_average_points_for'][-1])\n",
    "print(\"Seattle Seahawks\\t\\t\", three_game_moving_averages_sea['moving_average_points_for'][-1])\n",
    "print(\"-----------------------------------\")\n",
    "print(\"Cumulative\\t\\t\\t\", three_game_moving_averages_sf['moving_average_points_for'][-1] + three_game_moving_averages_sea['moving_average_points_for'][-1], '\\n')\n"
   ]
  },
  {
   "cell_type": "markdown",
   "metadata": {},
   "source": [
    "#### Previous Meeting\n",
    "\n",
    "The score of the previous meeting between the two teams."
   ]
  },
  {
   "cell_type": "code",
   "execution_count": 6,
   "metadata": {},
   "outputs": [
    {
     "name": "stdout",
     "output_type": "stream",
     "text": [
      "San Francisco 49ers\t\t 27\n",
      "Seattle Seahawks\t\t 7\n",
      "-----------------------------------\n",
      "Cumulative\t\t\t 34 \n",
      "\n"
     ]
    }
   ],
   "source": [
    "print(\"San Francisco 49ers\\t\\t\", sf_prev_meeting_points)\n",
    "print(\"Seattle Seahawks\\t\\t\", sea_prev_meeting_points)\n",
    "print(\"-----------------------------------\")\n",
    "print(\"Cumulative\\t\\t\\t\", sf_prev_meeting_points + sea_prev_meeting_points, '\\n')"
   ]
  },
  {
   "cell_type": "markdown",
   "metadata": {},
   "source": [
    "#### Average of All Predictions\n",
    "\n",
    "This is the average of all the predictions."
   ]
  },
  {
   "cell_type": "code",
   "execution_count": 7,
   "metadata": {},
   "outputs": [
    {
     "name": "stdout",
     "output_type": "stream",
     "text": [
      "San Francisco 49ers\t\t 30\n",
      "Seattle Seahawks\t\t 14\n",
      "-----------------------------------\n",
      "Cumulative\t\t\t 44 \n",
      "\n"
     ]
    }
   ],
   "source": [
    "print(\"San Francisco 49ers\\t\\t\", round(avg_of_avg_sf))\n",
    "print(\"Seattle Seahawks\\t\\t\", round(avg_of_avg_sea))\n",
    "print(\"-----------------------------------\")\n",
    "print(\"Cumulative\\t\\t\\t\", round(avg_of_avg_sf + avg_of_avg_sea), '\\n')"
   ]
  },
  {
   "cell_type": "markdown",
   "metadata": {},
   "source": [
    "<h2>Actual</h2>\n",
    "\n",
    "<div style=\"display: flex; align-items:center; gap: 2rem; margin-bottom: 1rem\">\n",
    "  <img src=\"./img/sf.png\" height=\"60\" width=\"60\">\n",
    "  <span style=\"font-size: 3.2rem\">41</span>\n",
    "</div>\n",
    "\n",
    "<div style=\"display: flex; align-items:center; gap: 2rem;\">\n",
    "  <img src=\"./img/sea.png\" height=\"60\" width=\"60\">\n",
    "  <span style=\"font-size: 3.2rem\">23</span>\n",
    "</div>\n",
    "\n",
    "<h3>Cumulative: 64</h3>"
   ]
  }
 ],
 "metadata": {
  "kernelspec": {
   "display_name": "venv",
   "language": "python",
   "name": "python3"
  },
  "language_info": {
   "codemirror_mode": {
    "name": "ipython",
    "version": 3
   },
   "file_extension": ".py",
   "mimetype": "text/x-python",
   "name": "python",
   "nbconvert_exporter": "python",
   "pygments_lexer": "ipython3",
   "version": "3.10.12"
  }
 },
 "nbformat": 4,
 "nbformat_minor": 5
}
