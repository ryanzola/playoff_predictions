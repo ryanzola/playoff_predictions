{
 "cells": [
  {
   "cell_type": "markdown",
   "metadata": {},
   "source": [
    "<h1 style=\"text-align: center\">Playoff Predictions</h1>\n",
    "\n",
    "<div style=\"display: flex; gap: 4rem; justify-content: center;\">\n",
    "  <img src=\"./img/mia.png\">\n",
    "  <img src=\"./img/kc.png\">\n",
    "</div>"
   ]
  },
  {
   "cell_type": "markdown",
   "metadata": {},
   "source": [
    "### Methods"
   ]
  },
  {
   "cell_type": "code",
   "execution_count": 2,
   "id": "24b34bec",
   "metadata": {},
   "outputs": [],
   "source": [
    "# Calculate the average points for and against for the season and the last 4 games for each team\n",
    "def calculate_averages(points_for, points_against):\n",
    "    last4_for = points_for[-4:]\n",
    "    last4_against = points_against[-4:]\n",
    "\n",
    "    averages = {\n",
    "        'average_points_for': round(sum(points_for) / len(points_for)),\n",
    "        'average_last4_points_for': round(sum(last4_for) / len(last4_for)),\n",
    "        'average_points_against': round(sum(points_against) / len(points_against)),\n",
    "        'average_last4_points_against': round(sum(last4_against) / len(last4_against))\n",
    "    }\n",
    "    return averages\n",
    "\n",
    "# Calculate predictions for each team\n",
    "# The average of the last 4 games is weighted more heavily\n",
    "# This is because the last 4 games are more indicative of the current form of the team\n",
    "def calculate_predictions(team1, team2):\n",
    "    team1_points = ((0.3 * team1['average_points_for'] + (0.7 * team1['average_last4_points_for'])) + ((0.3 * team2['average_points_against'])+(0.7 * team2['average_last4_points_against']))) / 2\n",
    "    team2_points = ((0.3 * team2['average_points_for'] + (0.7 * team2['average_last4_points_for'])) + ((0.3 * team1['average_points_against'])+(0.7 * team1['average_last4_points_against']))) / 2\n",
    "\n",
    "    return {\n",
    "        'team1': round(team1_points),\n",
    "        'team2': round(team2_points)\n",
    "    }\n",
    "\n",
    "# Calculate 3-game moving averages for each team\n",
    "# This is used to get a better idea of the current form of the team\n",
    "def calculate_moving_averages(points_for, points_against):\n",
    "    moving_averages = {\n",
    "        'moving_average_points_for': [],\n",
    "        'moving_average_points_against': []\n",
    "    }\n",
    "\n",
    "    for i in range(len(points_for)):\n",
    "        if i < 2:\n",
    "            moving_averages['moving_average_points_for'].append(0)\n",
    "            moving_averages['moving_average_points_against'].append(0)\n",
    "        else:\n",
    "            moving_averages['moving_average_points_for'].append(round((points_for[i-2] + points_for[i-1] + points_for[i]) / 3))\n",
    "            moving_averages['moving_average_points_against'].append(round((points_against[i-2] + points_against[i-1] + points_against[i]) / 3))\n",
    "\n",
    "    return moving_averages"
   ]
  },
  {
   "cell_type": "markdown",
   "metadata": {},
   "source": [
    "### Data"
   ]
  },
  {
   "cell_type": "code",
   "execution_count": 24,
   "id": "688e2a80-d50a-4e39-b53c-7bf1529e7706",
   "metadata": {},
   "outputs": [],
   "source": [
    "# miami dolphins\n",
    "mia_points_for = [36,24,70,20,31,42,17,31,14,20,34,45,27,30,22,19,14]\n",
    "mia_points_against = [24,17,20,48,16,21,31,17,21,13,13,15,28,0,20,56,21]\n",
    "mia_prev_meeting_points = 14\n",
    "mia_averages = calculate_averages(mia_points_for, mia_points_against)\n",
    "\n",
    "# Kansas City Chiefs\n",
    "kc_points_for = [20,17,41,23,27,19,31,9,21,17,31,19,17,27,14,25,13]\n",
    "kc_points_against = [21,9,10,20,20,8,17,24,14,21,17,27,20,17,20,17,12]\n",
    "kc_prev_meeting_points = 21\n",
    "kc_averages = calculate_averages(kc_points_for, kc_points_against)\n",
    "\n",
    "# predictions\n",
    "predictions = calculate_predictions(mia_averages, kc_averages)\n",
    "three_game_moving_averages_mia = calculate_moving_averages(mia_points_for, mia_points_against)\n",
    "three_game_moving_averages_kc = calculate_moving_averages(kc_points_for, kc_points_against)\n",
    "\n",
    "# average of averages\n",
    "avg_of_avg_mia = (predictions['team1'] + three_game_moving_averages_mia['moving_average_points_for'][-1] + mia_prev_meeting_points) / 3\n",
    "avg_of_avg_kc = (predictions['team2'] + three_game_moving_averages_kc['moving_average_points_for'][-1] + kc_prev_meeting_points) / 3\n"
   ]
  },
  {
   "cell_type": "markdown",
   "metadata": {},
   "source": [
    "### Averages"
   ]
  },
  {
   "cell_type": "code",
   "execution_count": 25,
   "id": "b83e9849-63ff-428a-9345-73d20f900593",
   "metadata": {},
   "outputs": [
    {
     "name": "stdout",
     "output_type": "stream",
     "text": [
      "Miami Dolphins\n",
      "points for (season)\t\t 29\n",
      "points for (last 4)\t\t 21 \n",
      "\n",
      "points against (season)\t\t 22\n",
      "points against (last 4)\t\t 24\n",
      "\n",
      "--------------------\n",
      "\n",
      "Kansas City Chiefs\n",
      "points for (season)\t\t 22\n",
      "points for (last 4)\t\t 20 \n",
      "\n",
      "points against (season)\t\t 17\n",
      "points against (last 4)\t\t 16\n",
      "\n",
      "--------------------\n",
      "\n"
     ]
    }
   ],
   "source": [
    "print(\"Miami Dolphins\")\n",
    "print(\"points for (season)\\t\\t\",  mia_averages['average_points_for'])\n",
    "print(\"points for (last 4)\\t\\t\", mia_averages['average_last4_points_for'], '\\n')\n",
    "print(\"points against (season)\\t\\t\", mia_averages['average_points_against'])\n",
    "print(\"points against (last 4)\\t\\t\", mia_averages['average_last4_points_against'])\n",
    "\n",
    "print(\"\\n--------------------\\n\")\n",
    "\n",
    "print(\"Kansas City Chiefs\")\n",
    "print(\"points for (season)\\t\\t\", kc_averages['average_points_for'])\n",
    "print(\"points for (last 4)\\t\\t\", kc_averages['average_last4_points_for'], '\\n')\n",
    "print(\"points against (season)\\t\\t\", kc_averages['average_points_against'])\n",
    "print(\"points against (last 4)\\t\\t\", kc_averages['average_last4_points_against'])\n",
    "\n",
    "print(\"\\n--------------------\\n\")\n"
   ]
  },
  {
   "cell_type": "markdown",
   "metadata": {},
   "source": [
    "### Predictions"
   ]
  },
  {
   "cell_type": "markdown",
   "metadata": {},
   "source": [
    "#### Weigthted Average\n",
    "\n",
    "This weighs the average of the season vs the average of the last 4 games. The weight is 0.3 for the season and 0.7 for the last 4 games."
   ]
  },
  {
   "cell_type": "code",
   "execution_count": 26,
   "id": "668ba12f-12cc-461a-87f0-e662c6a96670",
   "metadata": {},
   "outputs": [
    {
     "name": "stdout",
     "output_type": "stream",
     "text": [
      "Miami Dolphins\t\t\t 20\n",
      "Kansas City Chiefs\t\t 22\n",
      "-----------------------------------\n",
      "Cumulative\t\t\t 42 \n",
      "\n"
     ]
    }
   ],
   "source": [
    "print(\"Miami Dolphins\\t\\t\\t\", predictions['team1'])\n",
    "print(\"Kansas City Chiefs\\t\\t\", predictions['team2'])\n",
    "print(\"-----------------------------------\")\n",
    "print(\"Cumulative\\t\\t\\t\", predictions['team1'] + predictions['team2'], '\\n')"
   ]
  },
  {
   "cell_type": "markdown",
   "metadata": {},
   "source": [
    "#### Three-Game Moving Average\n",
    "\n",
    "The three-game moving average calculates the average of the last three games for each team. This is a simple way to account for recent performance."
   ]
  },
  {
   "cell_type": "code",
   "execution_count": 27,
   "metadata": {},
   "outputs": [
    {
     "name": "stdout",
     "output_type": "stream",
     "text": [
      "Three-Game Moving Average\n",
      "Miami Dolphins\t\t\t 18\n",
      "Kansas City Chiefs\t\t 17\n",
      "-----------------------------------\n",
      "Cumulative\t\t\t 35 \n",
      "\n"
     ]
    }
   ],
   "source": [
    "print(\"Three-Game Moving Average\")\n",
    "print(\"Miami Dolphins\\t\\t\\t\", three_game_moving_averages_mia['moving_average_points_for'][-1])\n",
    "print(\"Kansas City Chiefs\\t\\t\", three_game_moving_averages_kc['moving_average_points_for'][-1])\n",
    "print(\"-----------------------------------\")\n",
    "print(\"Cumulative\\t\\t\\t\", three_game_moving_averages_mia['moving_average_points_for'][-1] + three_game_moving_averages_kc['moving_average_points_for'][-1], '\\n')\n"
   ]
  },
  {
   "cell_type": "markdown",
   "metadata": {},
   "source": [
    "#### Previous Meeting\n",
    "\n",
    "The score of the previous meeting between the two teams."
   ]
  },
  {
   "cell_type": "code",
   "execution_count": 28,
   "metadata": {},
   "outputs": [
    {
     "name": "stdout",
     "output_type": "stream",
     "text": [
      "Miami Dolphins\t\t\t 14\n",
      "Kansas City Chiefs\t\t 21\n",
      "-----------------------------------\n",
      "Cumulative\t\t\t 35 \n",
      "\n"
     ]
    }
   ],
   "source": [
    "print(\"Miami Dolphins\\t\\t\\t\", mia_prev_meeting_points)\n",
    "print(\"Kansas City Chiefs\\t\\t\", kc_prev_meeting_points)\n",
    "print(\"-----------------------------------\")\n",
    "print(\"Cumulative\\t\\t\\t\", mia_prev_meeting_points + kc_prev_meeting_points, '\\n')"
   ]
  },
  {
   "cell_type": "markdown",
   "metadata": {},
   "source": [
    "#### Average of All Predictions\n",
    "\n",
    "This is the average of all the predictions."
   ]
  },
  {
   "cell_type": "code",
   "execution_count": 30,
   "metadata": {},
   "outputs": [
    {
     "name": "stdout",
     "output_type": "stream",
     "text": [
      "Miami Dolphins\t\t\t 17\n",
      "Kansas City Chiefs\t\t 20\n",
      "-----------------------------------\n",
      "Cumulative\t\t\t 37 \n",
      "\n"
     ]
    }
   ],
   "source": [
    "print(\"Miami Dolphins\\t\\t\\t\", round(avg_of_avg_mia))\n",
    "print(\"Kansas City Chiefs\\t\\t\", round(avg_of_avg_kc))\n",
    "print(\"-----------------------------------\")\n",
    "print(\"Cumulative\\t\\t\\t\", round(avg_of_avg_mia + avg_of_avg_kc), '\\n')"
   ]
  }
 ],
 "metadata": {
  "kernelspec": {
   "display_name": "venv",
   "language": "python",
   "name": "python3"
  },
  "language_info": {
   "codemirror_mode": {
    "name": "ipython",
    "version": 3
   },
   "file_extension": ".py",
   "mimetype": "text/x-python",
   "name": "python",
   "nbconvert_exporter": "python",
   "pygments_lexer": "ipython3",
   "version": "3.10.12"
  }
 },
 "nbformat": 4,
 "nbformat_minor": 5
}
