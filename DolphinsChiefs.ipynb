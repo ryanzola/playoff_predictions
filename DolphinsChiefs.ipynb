{
 "cells": [
  {
   "cell_type": "markdown",
   "metadata": {},
   "source": [
    "<h1 style=\"text-align: center\">Playoff Predictions</h1>\n",
    "\n",
    "<div style=\"display: flex; gap: 4rem; justify-content: center;\">\n",
    "  <img src=\"./img/mia.png\">\n",
    "  <img src=\"./img/kc.png\">\n",
    "</div>"
   ]
  },
  {
   "cell_type": "markdown",
   "metadata": {},
   "source": [
    "### Data"
   ]
  },
  {
   "cell_type": "code",
   "execution_count": 31,
   "id": "688e2a80-d50a-4e39-b53c-7bf1529e7706",
   "metadata": {},
   "outputs": [],
   "source": [
    "import utils\n",
    "\n",
    "# miami dolphins\n",
    "mia_points_for = [36,24,70,20,31,42,17,31,14,20,34,45,27,30,22,19,14]\n",
    "mia_points_against = [24,17,20,48,16,21,31,17,21,13,13,15,28,0,20,56,21]\n",
    "mia_prev_meeting_points = 14\n",
    "mia_averages = utils.calculate_averages(mia_points_for, mia_points_against)\n",
    "\n",
    "# Kansas City Chiefs\n",
    "kc_points_for = [20,17,41,23,27,19,31,9,21,17,31,19,17,27,14,25,13]\n",
    "kc_points_against = [21,9,10,20,20,8,17,24,14,21,17,27,20,17,20,17,12]\n",
    "kc_prev_meeting_points = 21\n",
    "kc_averages = utils.calculate_averages(kc_points_for, kc_points_against)\n",
    "\n",
    "# predictions\n",
    "predictions = utils.calculate_predictions(mia_averages, kc_averages)\n",
    "three_game_moving_averages_mia = utils.calculate_moving_averages(mia_points_for, mia_points_against)\n",
    "three_game_moving_averages_kc = utils.calculate_moving_averages(kc_points_for, kc_points_against)\n",
    "\n",
    "# average of averages\n",
    "avg_of_avg_mia = (predictions['team1'] + three_game_moving_averages_mia['moving_average_points_for'][-1] + mia_prev_meeting_points) / 3\n",
    "avg_of_avg_kc = (predictions['team2'] + three_game_moving_averages_kc['moving_average_points_for'][-1] + kc_prev_meeting_points) / 3\n"
   ]
  },
  {
   "cell_type": "markdown",
   "metadata": {},
   "source": [
    "### Averages"
   ]
  },
  {
   "cell_type": "code",
   "execution_count": 32,
   "id": "b83e9849-63ff-428a-9345-73d20f900593",
   "metadata": {},
   "outputs": [
    {
     "name": "stdout",
     "output_type": "stream",
     "text": [
      "Miami Dolphins\n",
      "points for (season)\t\t 29\n",
      "points for (last 4)\t\t 21 \n",
      "\n",
      "points against (season)\t\t 22\n",
      "points against (last 4)\t\t 24\n",
      "\n",
      "--------------------\n",
      "\n",
      "Kansas City Chiefs\n",
      "points for (season)\t\t 22\n",
      "points for (last 4)\t\t 20 \n",
      "\n",
      "points against (season)\t\t 17\n",
      "points against (last 4)\t\t 16\n",
      "\n",
      "--------------------\n",
      "\n"
     ]
    }
   ],
   "source": [
    "print(\"Miami Dolphins\")\n",
    "print(\"points for (season)\\t\\t\",  mia_averages['average_points_for'])\n",
    "print(\"points for (last 4)\\t\\t\", mia_averages['average_last4_points_for'], '\\n')\n",
    "print(\"points against (season)\\t\\t\", mia_averages['average_points_against'])\n",
    "print(\"points against (last 4)\\t\\t\", mia_averages['average_last4_points_against'])\n",
    "\n",
    "print(\"\\n--------------------\\n\")\n",
    "\n",
    "print(\"Kansas City Chiefs\")\n",
    "print(\"points for (season)\\t\\t\", kc_averages['average_points_for'])\n",
    "print(\"points for (last 4)\\t\\t\", kc_averages['average_last4_points_for'], '\\n')\n",
    "print(\"points against (season)\\t\\t\", kc_averages['average_points_against'])\n",
    "print(\"points against (last 4)\\t\\t\", kc_averages['average_last4_points_against'])\n",
    "\n",
    "print(\"\\n--------------------\\n\")\n"
   ]
  },
  {
   "cell_type": "markdown",
   "metadata": {},
   "source": [
    "### Predictions"
   ]
  },
  {
   "cell_type": "markdown",
   "metadata": {},
   "source": [
    "#### Weigthted Average\n",
    "\n",
    "This weighs the average of the season vs the average of the last 4 games. The weight is 0.3 for the season and 0.7 for the last 4 games.\n",
    "\n",
    "<div style=\"display: flex; align-items:center; gap: 2rem; margin-bottom: 1rem\">\n",
    "  <img src=\"./img/mia.png\" height=\"60\" width=\"60\">\n",
    "  <span style=\"font-size: 3.2rem\">20</span>\n",
    "</div>\n",
    "\n",
    "<div style=\"display: flex; align-items:center; gap: 2rem;\">\n",
    "  <img src=\"./img/kc.png\" height=\"60\" width=\"60\">\n",
    "  <span style=\"font-size: 3.2rem\">22</span>\n",
    "</div>\n",
    "\n",
    "<h5>Cumulative: 42</h5>\n",
    "\n",
    "---"
   ]
  },
  {
   "cell_type": "markdown",
   "metadata": {},
   "source": [
    "#### Three-Game Average\n",
    "\n",
    "The three-game moving average calculates the average of the last three games for each team. This is a simple way to account for recent performance.\n",
    "\n",
    "<div style=\"display: flex; align-items:center; gap: 2rem; margin-bottom: 1rem\">\n",
    "  <img src=\"./img/mia.png\" height=\"60\" width=\"60\">\n",
    "  <span style=\"font-size: 3.2rem\">18</span>\n",
    "</div>\n",
    "\n",
    "<div style=\"display: flex; align-items:center; gap: 2rem;\">\n",
    "  <img src=\"./img/kc.png\" height=\"60\" width=\"60\">\n",
    "  <span style=\"font-size: 3.2rem\">17</span>\n",
    "</div>\n",
    "\n",
    "<h5>Cumulative: 35</h5>\n",
    "\n",
    "---"
   ]
  },
  {
   "cell_type": "markdown",
   "metadata": {},
   "source": [
    "#### Previous Meeting\n",
    "\n",
    "The score of the previous meeting between the two teams.\n",
    "\n",
    "<div style=\"display: flex; align-items:center; gap: 2rem; margin-bottom: 1rem\">\n",
    "  <img src=\"./img/mia.png\" height=\"60\" width=\"60\">\n",
    "  <span style=\"font-size: 3.2rem\">14</span>\n",
    "</div>\n",
    "\n",
    "<div style=\"display: flex; align-items:center; gap: 2rem;\">\n",
    "  <img src=\"./img/kc.png\" height=\"60\" width=\"60\">\n",
    "  <span style=\"font-size: 3.2rem\">21</span>\n",
    "</div>\n",
    "\n",
    "<h5>Cumulative: 35</h5>\n",
    "\n",
    "---"
   ]
  },
  {
   "cell_type": "markdown",
   "metadata": {},
   "source": [
    "#### Average of All Predictions\n",
    "\n",
    "This is the average of all the predictions.\n",
    "\n",
    "<div style=\"display: flex; align-items:center; gap: 2rem; margin-bottom: 1rem\">\n",
    "  <img src=\"./img/mia.png\" height=\"60\" width=\"60\">\n",
    "  <span style=\"font-size: 3.2rem\">17</span>\n",
    "</div>\n",
    "\n",
    "<div style=\"display: flex; align-items:center; gap: 2rem;\">\n",
    "  <img src=\"./img/kc.png\" height=\"60\" width=\"60\">\n",
    "  <span style=\"font-size: 3.2rem\">20</span>\n",
    "</div>\n",
    "\n",
    "<h5>Cumulative: 37</h5>\n",
    "\n",
    "---"
   ]
  },
  {
   "cell_type": "markdown",
   "metadata": {},
   "source": [
    "#### Actual\n",
    "\n",
    "<div style=\"display: flex; align-items:center; gap: 2rem; margin-bottom: 1rem\">\n",
    "  <img src=\"./img/mia.png\" height=\"60\" width=\"60\">\n",
    "  <span style=\"font-size: 3.2rem\">7</span>\n",
    "</div>\n",
    "\n",
    "<div style=\"display: flex; align-items:center; gap: 2rem;\">\n",
    "  <img src=\"./img/kc.png\" height=\"60\" width=\"60\">\n",
    "  <span style=\"font-size: 3.2rem\">26</span>\n",
    "</div>\n",
    "\n",
    "<h5>Cumulative: 33</h5>"
   ]
  }
 ],
 "metadata": {
  "kernelspec": {
   "display_name": "venv",
   "language": "python",
   "name": "python3"
  },
  "language_info": {
   "codemirror_mode": {
    "name": "ipython",
    "version": 3
   },
   "file_extension": ".py",
   "mimetype": "text/x-python",
   "name": "python",
   "nbconvert_exporter": "python",
   "pygments_lexer": "ipython3",
   "version": "3.10.12"
  }
 },
 "nbformat": 4,
 "nbformat_minor": 5
}
